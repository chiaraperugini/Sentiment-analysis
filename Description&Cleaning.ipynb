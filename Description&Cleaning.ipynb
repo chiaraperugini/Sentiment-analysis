{
 "cells": [
  {
   "cell_type": "markdown",
   "metadata": {},
   "source": [
    "## US Election 2020 Tweets Analysis\n",
    "\n",
    "The [\"US Election 2020 Tweets\" dataset](https://www.kaggle.com/datasets/manchunhui/us-election-2020-tweets/data) provides an extensive collection of tweets from around the world that include hashtags related to the 2020 U.S. presidential candidates, Biden and Trump.\n",
    "\n",
    "### Objectives\n",
    "For this analysis, we will focus exclusively on single tweets from each unique Twitter user based in the United States, and in English, to perform text analysis with three main goals:\n",
    "\n",
    "- **Tweets distribution Analysis**: Clear the dataset and prepare it for a general analysis. Describe how tweets are distributed between the two U.S. candidates in all US and across federal states;\n",
    "- **Global Sentiment Analysis**: Clear the dataset and prepare it for a Sentiment Text Analysis. Assess the sentiment of the global population of Twitter users towards Biden and Trump evaluating which sentiment preveals on each of them;\n",
    "- **Federal States Sentiment Analysis**: Assess the sentiment of each Federal state Twitter users towards Biden and Trump and use it as a proxy for the election outcome (**Subsection A**). Evaluate the power of the proxy using the outcome of 2020 elections (**Subsection B**). \n"
   ]
  },
  {
   "cell_type": "markdown",
   "metadata": {},
   "source": [
    "------"
   ]
  },
  {
   "cell_type": "markdown",
   "metadata": {},
   "source": [
    "# Tweets Distribution Analysis"
   ]
  },
  {
   "cell_type": "markdown",
   "metadata": {},
   "source": [
    "This initial code performs a descriptive analysis for each candidate and explores the distribution of tweets across U.S. federal states. The output is a final, cleaned dataset prepared for the subsequent sentiment analysis.\n",
    "\n",
    "Throughout the analysis, interactive graphs are provided to visualize the distribution of tweets by candidate and state. Notably, tweets with Trump-related hashtags appear more frequently in nearly every federal state."
   ]
  },
  {
   "cell_type": "markdown",
   "metadata": {},
   "source": [
    "### Libraries to Import"
   ]
  },
  {
   "cell_type": "code",
   "execution_count": 1,
   "metadata": {},
   "outputs": [],
   "source": [
    "# Import Libraries \n",
    "import pandas as pd \n",
    "import numpy as np \n",
    "import matplotlib.pyplot as plt \n",
    "import plotly.express as px \n",
    "import plotly.io as pio\n",
    "from pathlib import Path\n",
    "import os\n",
    "\n",
    "# Libraries for Sentiment Analysis \n",
    "import re \n",
    "import nltk \n",
    "from nltk.corpus import stopwords \n",
    "from nltk.corpus import wordnet \n",
    "from nltk.stem import WordNetLemmatizer \n",
    "from textblob import TextBlob \n",
    "from wordcloud import WordCloud \n",
    "from nltk.tokenize import sent_tokenize, word_tokenize\n",
    "from nltk.corpus import stopwords, words\n",
    "from nltk.probability import FreqDist"
   ]
  },
  {
   "cell_type": "markdown",
   "metadata": {},
   "source": [
    "### Set the directory"
   ]
  },
  {
   "cell_type": "code",
   "execution_count": 2,
   "metadata": {},
   "outputs": [
    {
     "name": "stdout",
     "output_type": "stream",
     "text": [
      "Current Working Directory: /Users/chiaraperugini/Downloads/python/Python_project\n"
     ]
    }
   ],
   "source": [
    "# Define the base path\n",
    "base_path = Path(\"/Users/chiaraperugini/Downloads/python/Python_project\")\n",
    "# Change the working directory\n",
    "os.chdir(base_path)\n",
    "\n",
    "# Define the full path to the CSV file for Trump and Biden\n",
    "csv_path_trump = base_path / \"data\" / \"hashtag_donaldtrump.csv\"\n",
    "csv_path_biden = base_path / \"data\" / \"hashtag_joebiden.csv\"\n",
    "\n",
    "# Print the current working directory\n",
    "print(\"Current Working Directory:\", Path.cwd())"
   ]
  },
  {
   "cell_type": "markdown",
   "metadata": {},
   "source": [
    "### Load Data"
   ]
  },
  {
   "cell_type": "markdown",
   "metadata": {},
   "source": [
    "Import the \"US Election 2020 Tweets\" dataset for hashtags of *Trump*"
   ]
  },
  {
   "cell_type": "code",
   "execution_count": 44,
   "metadata": {},
   "outputs": [
    {
     "name": "stdout",
     "output_type": "stream",
     "text": [
      "First 5 rows of the DataFrame for Trump:\n",
      "            created_at                tweet_id  \\\n",
      "0  2020-10-15 00:00:01   1.316529221557252e+18   \n",
      "1  2020-10-15 00:00:01  1.3165292227484303e+18   \n",
      "2  2020-10-15 00:00:02   1.316529228091847e+18   \n",
      "3  2020-10-15 00:00:02   1.316529227471237e+18   \n",
      "4  2020-10-15 00:00:08  1.3165292523014513e+18   \n",
      "\n",
      "                                               tweet likes  retweet_count  \\\n",
      "0  #Elecciones2020 | En #Florida: #JoeBiden dice ...   0.0            0.0   \n",
      "1  Usa 2020, Trump contro Facebook e Twitter: cop...  26.0            9.0   \n",
      "2  #Trump: As a student I used to hear for years,...   2.0            1.0   \n",
      "3  2 hours since last tweet from #Trump! Maybe he...   0.0            0.0   \n",
      "4  You get a tie! And you get a tie! #Trump ‘s ra...   4.0            3.0   \n",
      "\n",
      "               source               user_id              user_name  \\\n",
      "0           TweetDeck           360666534.0     El Sol Latino News   \n",
      "1    Social Mediaset            331617619.0                Tgcom24   \n",
      "2     Twitter Web App             8436472.0                 snarke   \n",
      "3       Trumpytweeter  8.28355589206057e+17          Trumpytweeter   \n",
      "4  Twitter for iPhone            47413798.0  Rana Abtar - رنا أبتر   \n",
      "\n",
      "  user_screen_name                                   user_description  ...  \\\n",
      "0  elsollatinonews  🌐 Noticias de interés para latinos de la costa...  ...   \n",
      "1  MediasetTgcom24  Profilo ufficiale di Tgcom24: tutte le notizie...  ...   \n",
      "2           snarke  Will mock for food! Freelance writer, blogger,...  ...   \n",
      "3    trumpytweeter  If he doesn't tweet for some time, should we b...  ...   \n",
      "4        Ranaabtar  Washington Correspondent, Lebanese-American ,c...  ...   \n",
      "\n",
      "  user_followers_count                 user_location         lat  \\\n",
      "0               1860.0  Philadelphia, PA / Miami, FL    25.77427   \n",
      "1            1067661.0                           NaN         NaN   \n",
      "2               1185.0                      Portland  45.5202471   \n",
      "3                 32.0                           NaN         NaN   \n",
      "4               5393.0                 Washington DC  38.8949924   \n",
      "\n",
      "           long        city                   country      continent  \\\n",
      "0     -80.19366         NaN  United States of America  North America   \n",
      "1           NaN         NaN                       NaN            NaN   \n",
      "2  -122.6741949    Portland  United States of America  North America   \n",
      "3           NaN         NaN                       NaN            NaN   \n",
      "4   -77.0365581  Washington  United States of America  North America   \n",
      "\n",
      "                  state state_code                   collected_at  \n",
      "0               Florida         FL            2020-10-21 00:00:00  \n",
      "1                   NaN        NaN  2020-10-21 00:00:00.373216530  \n",
      "2                Oregon         OR  2020-10-21 00:00:00.746433060  \n",
      "3                   NaN        NaN  2020-10-21 00:00:01.119649591  \n",
      "4  District of Columbia         DC  2020-10-21 00:00:01.492866121  \n",
      "\n",
      "[5 rows x 21 columns]\n"
     ]
    }
   ],
   "source": [
    "## Trump \n",
    "try:\n",
    "    trump = pd.read_csv(csv_path_trump, encoding=\"utf-8\", engine='python', on_bad_lines='skip')\n",
    "    print(\"First 5 rows of the DataFrame for Trump:\")\n",
    "    print(trump.head())\n",
    "except Exception as e:\n",
    "    print(\"Error loading the file:\", e)"
   ]
  },
  {
   "cell_type": "markdown",
   "metadata": {},
   "source": [
    "Import the \"US Election 2020 Tweets\" dataset for hashtags of *Biden*"
   ]
  },
  {
   "cell_type": "code",
   "execution_count": 45,
   "metadata": {},
   "outputs": [
    {
     "name": "stdout",
     "output_type": "stream",
     "text": [
      "First 5 rows of the DataFrame for Biden:\n",
      "            created_at                tweet_id  \\\n",
      "0  2020-10-15 00:00:01   1.316529221557252e+18   \n",
      "1  2020-10-15 00:00:18    1.31652929585929e+18   \n",
      "2  2020-10-15 00:00:20  1.3165293050069524e+18   \n",
      "3  2020-10-15 00:00:21  1.3165293080815575e+18   \n",
      "4  2020-10-15 00:00:22   1.316529312741253e+18   \n",
      "\n",
      "                                               tweet likes  retweet_count  \\\n",
      "0  #Elecciones2020 | En #Florida: #JoeBiden dice ...   0.0            0.0   \n",
      "1  #HunterBiden #HunterBidenEmails #JoeBiden #Joe...   0.0            0.0   \n",
      "2  @IslandGirlPRV @BradBeauregardJ @MeidasTouch T...   0.0            0.0   \n",
      "3  @chrislongview Watching and setting dvr. Let’s...   0.0            0.0   \n",
      "4  #censorship #HunterBiden #Biden #BidenEmails #...   1.0            0.0   \n",
      "\n",
      "               source                user_id           user_name  \\\n",
      "0           TweetDeck            360666534.0  El Sol Latino News   \n",
      "1    Twitter for iPad            809904438.0         Cheri A. 🇺🇸   \n",
      "2     Twitter Web App           3494182277.0          Flag Waver   \n",
      "3  Twitter for iPhone  8.242596012018524e+17       Michelle Ferg   \n",
      "4     Twitter Web App  1.032806955356545e+18      the Gold State   \n",
      "\n",
      "  user_screen_name                                   user_description  ...  \\\n",
      "0  elsollatinonews  🌐 Noticias de interés para latinos de la costa...  ...   \n",
      "1     Biloximeemaw  Locked and loaded Meemaw. Love God, my family ...  ...   \n",
      "2      Flag_Wavers                                                NaN  ...   \n",
      "3    MichelleFerg4                                                NaN  ...   \n",
      "4    theegoldstate  A Silicon Valley #independent #News #Media #St...  ...   \n",
      "\n",
      "  user_followers_count                 user_location         lat  \\\n",
      "0               1860.0  Philadelphia, PA / Miami, FL    25.77427   \n",
      "1               6628.0                           NaN         NaN   \n",
      "2               1536.0         Golden Valley Arizona  46.3040364   \n",
      "3                 27.0                           NaN         NaN   \n",
      "4                390.0               California, USA  36.7014631   \n",
      "\n",
      "                  long city                   country      continent  \\\n",
      "0            -80.19366  NaN  United States of America  North America   \n",
      "1                  NaN  NaN                       NaN            NaN   \n",
      "2  -109.17143119999999  NaN  United States of America  North America   \n",
      "3                  NaN  NaN                       NaN            NaN   \n",
      "4  -118.75599740000001  NaN  United States of America  North America   \n",
      "\n",
      "        state state_code                   collected_at  \n",
      "0     Florida         FL            2020-10-21 00:00:00  \n",
      "1         NaN        NaN  2020-10-21 00:00:00.517827283  \n",
      "2     Montana         MT  2020-10-21 00:00:01.035654566  \n",
      "3         NaN        NaN  2020-10-21 00:00:01.553481849  \n",
      "4  California         CA  2020-10-21 00:00:02.071309132  \n",
      "\n",
      "[5 rows x 21 columns]\n"
     ]
    }
   ],
   "source": [
    "## Biden \n",
    "try:\n",
    "    biden = pd.read_csv(csv_path_biden, encoding=\"utf-8\", engine='python', on_bad_lines='skip')\n",
    "    print(\"First 5 rows of the DataFrame for Biden:\")\n",
    "    print(biden.head())\n",
    "except Exception as e:\n",
    "    print(\"Error loading the file:\", e)"
   ]
  },
  {
   "cell_type": "markdown",
   "metadata": {},
   "source": [
    "### Data Destription"
   ]
  },
  {
   "cell_type": "markdown",
   "metadata": {},
   "source": [
    "In the this subsection some descriptive analysis on the dataset concerning ***Trump*** is performed "
   ]
  },
  {
   "cell_type": "code",
   "execution_count": 6,
   "metadata": {},
   "outputs": [
    {
     "name": "stdout",
     "output_type": "stream",
     "text": [
      "\n",
      "Descriptive Analysis:\n",
      "            created_at                tweet_id  \\\n",
      "0  2020-10-15 00:00:01   1.316529221557252e+18   \n",
      "1  2020-10-15 00:00:01  1.3165292227484303e+18   \n",
      "2  2020-10-15 00:00:02   1.316529228091847e+18   \n",
      "3  2020-10-15 00:00:02   1.316529227471237e+18   \n",
      "4  2020-10-15 00:00:08  1.3165292523014513e+18   \n",
      "5  2020-10-15 00:00:17   1.316529291052675e+18   \n",
      "6  2020-10-15 00:00:17   1.316529289949569e+18   \n",
      "7  2020-10-15 00:00:18  1.3165292934979625e+18   \n",
      "8  2020-10-15 00:00:20  1.3165293013329183e+18   \n",
      "9  2020-10-15 00:00:21  1.3165293085763092e+18   \n",
      "\n",
      "                                               tweet likes  retweet_count  \\\n",
      "0  #Elecciones2020 | En #Florida: #JoeBiden dice ...   0.0            0.0   \n",
      "1  Usa 2020, Trump contro Facebook e Twitter: cop...  26.0            9.0   \n",
      "2  #Trump: As a student I used to hear for years,...   2.0            1.0   \n",
      "3  2 hours since last tweet from #Trump! Maybe he...   0.0            0.0   \n",
      "4  You get a tie! And you get a tie! #Trump ‘s ra...   4.0            3.0   \n",
      "5  @CLady62 Her 15 minutes were over long time ag...   2.0            0.0   \n",
      "6  @richardmarx Glad u got out of the house! DICK...   0.0            0.0   \n",
      "7  @DeeviousDenise @realDonaldTrump @nypost There...   0.0            0.0   \n",
      "8  One of the single most effective remedies to e...   0.0            0.0   \n",
      "9  #Election2020 #Trump \\n#FreedomOfSpeech https:...   0.0            0.0   \n",
      "\n",
      "                source                user_id  \\\n",
      "0            TweetDeck            360666534.0   \n",
      "1     Social Mediaset             331617619.0   \n",
      "2      Twitter Web App              8436472.0   \n",
      "3        Trumpytweeter   8.28355589206057e+17   \n",
      "4   Twitter for iPhone             47413798.0   \n",
      "5  Twitter for Android           1138416104.0   \n",
      "6   Twitter for iPhone  7.674018410302095e+17   \n",
      "7   Twitter for iPhone  9.007610716314296e+17   \n",
      "8      Twitter Web App            540476889.0   \n",
      "9      Twitter Web App  1.305532976998969e+18   \n",
      "\n",
      "                                    user_name user_screen_name  \\\n",
      "0                          El Sol Latino News  elsollatinonews   \n",
      "1                                     Tgcom24  MediasetTgcom24   \n",
      "2                                      snarke           snarke   \n",
      "3                               Trumpytweeter    trumpytweeter   \n",
      "4                       Rana Abtar - رنا أبتر        Ranaabtar   \n",
      "5                                Farris Flagg      FarrisFlagg   \n",
      "6                              Michael Wilson      wilsonfire9   \n",
      "7  Stacey Gulledge 🇺🇸 Patriot ♥️ KAG 🙏 👮‍♀️♥️      sm_gulledge   \n",
      "8                                      Jamieo         jamieo33   \n",
      "9                                Johnny Quest    JohnnyQuest22   \n",
      "\n",
      "                                    user_description  ...  \\\n",
      "0  🌐 Noticias de interés para latinos de la costa...  ...   \n",
      "1  Profilo ufficiale di Tgcom24: tutte le notizie...  ...   \n",
      "2  Will mock for food! Freelance writer, blogger,...  ...   \n",
      "3  If he doesn't tweet for some time, should we b...  ...   \n",
      "4  Washington Correspondent, Lebanese-American ,c...  ...   \n",
      "5  #BidenHarris2020 #JoeBiden2020 #KamalaHarrisFo...  ...   \n",
      "6                                                NaN  ...   \n",
      "7  Patriot, Wife, “Shaken not Stirred” Mom of two...  ...   \n",
      "8  Don't know what I am. Can lean left and right,...  ...   \n",
      "9  Independent\\n\\nWhat is your American Dream?\\nT...  ...   \n",
      "\n",
      "  user_followers_count                 user_location                 lat  \\\n",
      "0               1860.0  Philadelphia, PA / Miami, FL            25.77427   \n",
      "1            1067661.0                           NaN                 NaN   \n",
      "2               1185.0                      Portland          45.5202471   \n",
      "3                 32.0                           NaN                 NaN   \n",
      "4               5393.0                 Washington DC          38.8949924   \n",
      "5               2363.0             Perris,California          33.7825194   \n",
      "6                 75.0                    Powell, TN                 NaN   \n",
      "7                766.0                     Ohio, USA  40.225356899999994   \n",
      "8                151.0             Pennsylvania, USA          40.9699889   \n",
      "9                  8.0                           NaN                 NaN   \n",
      "\n",
      "                  long        city                   country      continent  \\\n",
      "0            -80.19366         NaN  United States of America  North America   \n",
      "1                  NaN         NaN                       NaN            NaN   \n",
      "2         -122.6741949    Portland  United States of America  North America   \n",
      "3                  NaN         NaN                       NaN            NaN   \n",
      "4          -77.0365581  Washington  United States of America  North America   \n",
      "5  -117.22864779999999         NaN  United States of America  North America   \n",
      "6                  NaN         NaN                       NaN            NaN   \n",
      "7          -82.6881395         NaN  United States of America  North America   \n",
      "8   -77.72788309999999         NaN  United States of America  North America   \n",
      "9                  NaN         NaN                       NaN            NaN   \n",
      "\n",
      "                  state state_code                   collected_at  \n",
      "0               Florida         FL            2020-10-21 00:00:00  \n",
      "1                   NaN        NaN  2020-10-21 00:00:00.373216530  \n",
      "2                Oregon         OR  2020-10-21 00:00:00.746433060  \n",
      "3                   NaN        NaN  2020-10-21 00:00:01.119649591  \n",
      "4  District of Columbia         DC  2020-10-21 00:00:01.492866121  \n",
      "5            California         CA  2020-10-21 00:00:01.866082651  \n",
      "6                   NaN        NaN  2020-10-21 00:00:02.239299182  \n",
      "7                  Ohio         OH  2020-10-21 00:00:02.612515712  \n",
      "8          Pennsylvania         PA  2020-10-21 00:00:02.985732243  \n",
      "9                   NaN        NaN  2020-10-21 00:00:03.358948773  \n",
      "\n",
      "[10 rows x 21 columns]\n"
     ]
    }
   ],
   "source": [
    "# Perform descriptive analysis\n",
    "print(\"\\nDescriptive Analysis:\")\n",
    "print(trump.head(10))  # Show first 10 rows"
   ]
  },
  {
   "cell_type": "code",
   "execution_count": 7,
   "metadata": {},
   "outputs": [
    {
     "name": "stdout",
     "output_type": "stream",
     "text": [
      "DataFrame Info:\n",
      "<class 'pandas.core.frame.DataFrame'>\n",
      "RangeIndex: 971087 entries, 0 to 971086\n",
      "Data columns (total 21 columns):\n",
      " #   Column                Non-Null Count   Dtype  \n",
      "---  ------                --------------   -----  \n",
      " 0   created_at            971087 non-null  object \n",
      " 1   tweet_id              971073 non-null  object \n",
      " 2   tweet                 971073 non-null  object \n",
      " 3   likes                 971045 non-null  object \n",
      " 4   retweet_count         970933 non-null  float64\n",
      " 5   source                970057 non-null  object \n",
      " 6   user_id               970929 non-null  object \n",
      " 7   user_name             970911 non-null  object \n",
      " 8   user_screen_name      970933 non-null  object \n",
      " 9   user_description      869661 non-null  object \n",
      " 10  user_join_date        970779 non-null  object \n",
      " 11  user_followers_count  970917 non-null  object \n",
      " 12  user_location         675830 non-null  object \n",
      " 13  lat                   445702 non-null  object \n",
      " 14  long                  445705 non-null  object \n",
      " 15  city                  227180 non-null  object \n",
      " 16  country               442732 non-null  object \n",
      " 17  continent             442749 non-null  object \n",
      " 18  state                 320614 non-null  object \n",
      " 19  state_code            300414 non-null  object \n",
      " 20  collected_at          970765 non-null  object \n",
      "dtypes: float64(1), object(20)\n",
      "memory usage: 155.6+ MB\n"
     ]
    }
   ],
   "source": [
    "print(\"DataFrame Info:\")\n",
    "trump.info()  # Display DataFrame info"
   ]
  },
  {
   "cell_type": "code",
   "execution_count": 8,
   "metadata": {},
   "outputs": [
    {
     "name": "stdout",
     "output_type": "stream",
     "text": [
      "Shape of DataFrame: (971087, 21)\n"
     ]
    }
   ],
   "source": [
    "print(\"Shape of DataFrame:\", trump.shape)  # Show shape of the DataFrame"
   ]
  },
  {
   "cell_type": "code",
   "execution_count": 9,
   "metadata": {},
   "outputs": [
    {
     "name": "stdout",
     "output_type": "stream",
     "text": [
      "Columns in DataFrame: Index(['created_at', 'tweet_id', 'tweet', 'likes', 'retweet_count', 'source',\n",
      "       'user_id', 'user_name', 'user_screen_name', 'user_description',\n",
      "       'user_join_date', 'user_followers_count', 'user_location', 'lat',\n",
      "       'long', 'city', 'country', 'continent', 'state', 'state_code',\n",
      "       'collected_at'],\n",
      "      dtype='object')\n"
     ]
    }
   ],
   "source": [
    "print(\"Columns in DataFrame:\", trump.columns)  # List column names\n"
   ]
  },
  {
   "cell_type": "code",
   "execution_count": 10,
   "metadata": {},
   "outputs": [
    {
     "name": "stdout",
     "output_type": "stream",
     "text": [
      "Data Types of Columns:\n",
      "created_at               object\n",
      "tweet_id                 object\n",
      "tweet                    object\n",
      "likes                    object\n",
      "retweet_count           float64\n",
      "source                   object\n",
      "user_id                  object\n",
      "user_name                object\n",
      "user_screen_name         object\n",
      "user_description         object\n",
      "user_join_date           object\n",
      "user_followers_count     object\n",
      "user_location            object\n",
      "lat                      object\n",
      "long                     object\n",
      "city                     object\n",
      "country                  object\n",
      "continent                object\n",
      "state                    object\n",
      "state_code               object\n",
      "collected_at             object\n",
      "dtype: object\n"
     ]
    }
   ],
   "source": [
    "print(\"Data Types of Columns:\")\n",
    "print(trump.dtypes)  # Print data types of each column"
   ]
  },
  {
   "cell_type": "code",
   "execution_count": 11,
   "metadata": {},
   "outputs": [
    {
     "name": "stdout",
     "output_type": "stream",
     "text": [
      "Statistical Description:\n",
      "       retweet_count\n",
      "count   9.709330e+05\n",
      "mean    6.950235e+12\n",
      "std     2.844675e+15\n",
      "min     0.000000e+00\n",
      "25%     0.000000e+00\n",
      "50%     0.000000e+00\n",
      "75%     0.000000e+00\n",
      "max     1.322588e+18\n"
     ]
    }
   ],
   "source": [
    "print(\"Statistical Description:\")\n",
    "print(trump.describe())  # Get statistical description of numeric columns: non informative for our study"
   ]
  },
  {
   "cell_type": "markdown",
   "metadata": {},
   "source": [
    "Drop NA values in Trump's tweets"
   ]
  },
  {
   "cell_type": "code",
   "execution_count": 46,
   "metadata": {},
   "outputs": [
    {
     "name": "stdout",
     "output_type": "stream",
     "text": [
      "Missing values in each column:\n",
      "created_at                   0\n",
      "tweet_id                    14\n",
      "tweet                       14\n",
      "likes                       42\n",
      "retweet_count              154\n",
      "source                    1030\n",
      "user_id                    158\n",
      "user_name                  176\n",
      "user_screen_name           154\n",
      "user_description        101426\n",
      "user_join_date             308\n",
      "user_followers_count       170\n",
      "user_location           295257\n",
      "lat                     525385\n",
      "long                    525382\n",
      "city                    743907\n",
      "country                 528355\n",
      "continent               528338\n",
      "state                   650473\n",
      "state_code              670673\n",
      "collected_at               322\n",
      "dtype: int64\n"
     ]
    }
   ],
   "source": [
    "# Check for missing values in the DataFrame\n",
    "print(\"Missing values in each column:\")\n",
    "print(trump.isnull().sum())  # Show number of missing values per column"
   ]
  },
  {
   "cell_type": "code",
   "execution_count": 47,
   "metadata": {},
   "outputs": [
    {
     "name": "stdout",
     "output_type": "stream",
     "text": [
      "DataFrame after dropping missing tweets:\n",
      "            created_at                tweet_id  \\\n",
      "0  2020-10-15 00:00:01   1.316529221557252e+18   \n",
      "1  2020-10-15 00:00:01  1.3165292227484303e+18   \n",
      "2  2020-10-15 00:00:02   1.316529228091847e+18   \n",
      "3  2020-10-15 00:00:02   1.316529227471237e+18   \n",
      "4  2020-10-15 00:00:08  1.3165292523014513e+18   \n",
      "\n",
      "                                               tweet likes  retweet_count  \\\n",
      "0  #Elecciones2020 | En #Florida: #JoeBiden dice ...   0.0            0.0   \n",
      "1  Usa 2020, Trump contro Facebook e Twitter: cop...  26.0            9.0   \n",
      "2  #Trump: As a student I used to hear for years,...   2.0            1.0   \n",
      "3  2 hours since last tweet from #Trump! Maybe he...   0.0            0.0   \n",
      "4  You get a tie! And you get a tie! #Trump ‘s ra...   4.0            3.0   \n",
      "\n",
      "               source               user_id              user_name  \\\n",
      "0           TweetDeck           360666534.0     El Sol Latino News   \n",
      "1    Social Mediaset            331617619.0                Tgcom24   \n",
      "2     Twitter Web App             8436472.0                 snarke   \n",
      "3       Trumpytweeter  8.28355589206057e+17          Trumpytweeter   \n",
      "4  Twitter for iPhone            47413798.0  Rana Abtar - رنا أبتر   \n",
      "\n",
      "  user_screen_name                                   user_description  ...  \\\n",
      "0  elsollatinonews  🌐 Noticias de interés para latinos de la costa...  ...   \n",
      "1  MediasetTgcom24  Profilo ufficiale di Tgcom24: tutte le notizie...  ...   \n",
      "2           snarke  Will mock for food! Freelance writer, blogger,...  ...   \n",
      "3    trumpytweeter  If he doesn't tweet for some time, should we b...  ...   \n",
      "4        Ranaabtar  Washington Correspondent, Lebanese-American ,c...  ...   \n",
      "\n",
      "  user_followers_count                 user_location         lat  \\\n",
      "0               1860.0  Philadelphia, PA / Miami, FL    25.77427   \n",
      "1            1067661.0                           NaN         NaN   \n",
      "2               1185.0                      Portland  45.5202471   \n",
      "3                 32.0                           NaN         NaN   \n",
      "4               5393.0                 Washington DC  38.8949924   \n",
      "\n",
      "           long        city                   country      continent  \\\n",
      "0     -80.19366         NaN  United States of America  North America   \n",
      "1           NaN         NaN                       NaN            NaN   \n",
      "2  -122.6741949    Portland  United States of America  North America   \n",
      "3           NaN         NaN                       NaN            NaN   \n",
      "4   -77.0365581  Washington  United States of America  North America   \n",
      "\n",
      "                  state state_code                   collected_at  \n",
      "0               Florida         FL            2020-10-21 00:00:00  \n",
      "1                   NaN        NaN  2020-10-21 00:00:00.373216530  \n",
      "2                Oregon         OR  2020-10-21 00:00:00.746433060  \n",
      "3                   NaN        NaN  2020-10-21 00:00:01.119649591  \n",
      "4  District of Columbia         DC  2020-10-21 00:00:01.492866121  \n",
      "\n",
      "[5 rows x 21 columns]\n"
     ]
    }
   ],
   "source": [
    "# Drop rows with missing values in the 'tweet' column\n",
    "if trump['tweet'].isna().sum() > 0:\n",
    "    trump = trump.dropna(subset=['tweet'])\n",
    "    print(\"DataFrame after dropping missing tweets:\")\n",
    "    print(trump.head())  # Display the first few rows of the cleaned DataFrame"
   ]
  },
  {
   "cell_type": "markdown",
   "metadata": {},
   "source": [
    "In the this subsection some descriptive analysis on the dataset concerning ***Biden*** is performed "
   ]
  },
  {
   "cell_type": "code",
   "execution_count": 14,
   "metadata": {},
   "outputs": [
    {
     "name": "stdout",
     "output_type": "stream",
     "text": [
      "\n",
      "Descriptive Analysis:\n",
      "            created_at                tweet_id  \\\n",
      "0  2020-10-15 00:00:01   1.316529221557252e+18   \n",
      "1  2020-10-15 00:00:18    1.31652929585929e+18   \n",
      "2  2020-10-15 00:00:20  1.3165293050069524e+18   \n",
      "3  2020-10-15 00:00:21  1.3165293080815575e+18   \n",
      "4  2020-10-15 00:00:22   1.316529312741253e+18   \n",
      "5  2020-10-15 00:00:23  1.3165293165079306e+18   \n",
      "6  2020-10-15 00:00:25  1.3165293244182405e+18   \n",
      "7  2020-10-15 00:00:31  1.3165293476086784e+18   \n",
      "8  2020-10-15 00:00:36  1.3165293692009513e+18   \n",
      "9  2020-10-15 00:00:41  1.3165293928273428e+18   \n",
      "\n",
      "                                               tweet likes  retweet_count  \\\n",
      "0  #Elecciones2020 | En #Florida: #JoeBiden dice ...   0.0            0.0   \n",
      "1  #HunterBiden #HunterBidenEmails #JoeBiden #Joe...   0.0            0.0   \n",
      "2  @IslandGirlPRV @BradBeauregardJ @MeidasTouch T...   0.0            0.0   \n",
      "3  @chrislongview Watching and setting dvr. Let’s...   0.0            0.0   \n",
      "4  #censorship #HunterBiden #Biden #BidenEmails #...   1.0            0.0   \n",
      "5  \"IS THIS WRONG??!!\" Cory Booker's BRILLIANT Fi...   0.0            0.0   \n",
      "6  In 2020, #NYPost is being #censorship #CENSORE...   0.0            0.0   \n",
      "7  ►► Tell Politicians to STICK IT with this FREE...   0.0            0.0   \n",
      "8                     #Biden https://t.co/qMs0PmUev5   0.0            0.0   \n",
      "9  Proof  Bidens are crooked. Twitter will suspen...   1.0            1.0   \n",
      "\n",
      "                source                 user_id  \\\n",
      "0            TweetDeck             360666534.0   \n",
      "1     Twitter for iPad             809904438.0   \n",
      "2      Twitter Web App            3494182277.0   \n",
      "3   Twitter for iPhone   8.242596012018524e+17   \n",
      "4      Twitter Web App   1.032806955356545e+18   \n",
      "5      Twitter Web App             305727891.0   \n",
      "6   Twitter for iPhone              19940334.0   \n",
      "7        Freebie-Depot             103083214.0   \n",
      "8      Twitter Web App  1.2725683675059487e+18   \n",
      "9  Twitter for Android  1.2756585327848325e+18   \n",
      "\n",
      "                                           user_name user_screen_name  \\\n",
      "0                                 El Sol Latino News  elsollatinonews   \n",
      "1                                        Cheri A. 🇺🇸     Biloximeemaw   \n",
      "2                                         Flag Waver      Flag_Wavers   \n",
      "3                                      Michelle Ferg    MichelleFerg4   \n",
      "4                                     the Gold State    theegoldstate   \n",
      "5                                 Dose of Dissonance  Dose_Dissonance   \n",
      "6  Change Illinois | Biden will increase taxes by...   changeillinois   \n",
      "7                                    🆓 Freebie Depot     FreebieDepot   \n",
      "8                                            Kenneth    Kennethuteliv   \n",
      "9                                     Jake Rivendale    JakeRivendale   \n",
      "\n",
      "                                    user_description  ...  \\\n",
      "0  🌐 Noticias de interés para latinos de la costa...  ...   \n",
      "1  Locked and loaded Meemaw. Love God, my family ...  ...   \n",
      "2                                                NaN  ...   \n",
      "3                                                NaN  ...   \n",
      "4  A Silicon Valley #independent #News #Media #St...  ...   \n",
      "5  YOUTUBE CHANNEL: https://t.co/EFnKm5gnvV MERCH...  ...   \n",
      "6  Illinois, home of Lincoln and Reagan, used to ...  ...   \n",
      "7  Free Stuff - No Fluff!  Get all kinds of FREE ...  ...   \n",
      "8                                                NaN  ...   \n",
      "9                                                NaN  ...   \n",
      "\n",
      "  user_followers_count                 user_location                 lat  \\\n",
      "0               1860.0  Philadelphia, PA / Miami, FL            25.77427   \n",
      "1               6628.0                           NaN                 NaN   \n",
      "2               1536.0         Golden Valley Arizona          46.3040364   \n",
      "3                 27.0                           NaN                 NaN   \n",
      "4                390.0               California, USA          36.7014631   \n",
      "5               4622.0                           NaN                 NaN   \n",
      "6               1397.0             Chicago, Illinois  41.875561600000005   \n",
      "7               6402.0       USA - Land of the FREE!                 NaN   \n",
      "8                103.0                           NaN                 NaN   \n",
      "9                 80.0                           NaN                 NaN   \n",
      "\n",
      "                  long     city                   country      continent  \\\n",
      "0            -80.19366      NaN  United States of America  North America   \n",
      "1                  NaN      NaN                       NaN            NaN   \n",
      "2  -109.17143119999999      NaN  United States of America  North America   \n",
      "3                  NaN      NaN                       NaN            NaN   \n",
      "4  -118.75599740000001      NaN  United States of America  North America   \n",
      "5                  NaN      NaN                       NaN            NaN   \n",
      "6          -87.6244212  Chicago  United States of America  North America   \n",
      "7                  NaN      NaN                       NaN            NaN   \n",
      "8                  NaN      NaN                       NaN            NaN   \n",
      "9                  NaN      NaN                       NaN            NaN   \n",
      "\n",
      "        state state_code                   collected_at  \n",
      "0     Florida         FL            2020-10-21 00:00:00  \n",
      "1         NaN        NaN  2020-10-21 00:00:00.517827283  \n",
      "2     Montana         MT  2020-10-21 00:00:01.035654566  \n",
      "3         NaN        NaN  2020-10-21 00:00:01.553481849  \n",
      "4  California         CA  2020-10-21 00:00:02.071309132  \n",
      "5         NaN        NaN  2020-10-21 00:00:02.589136415  \n",
      "6    Illinois         IL  2020-10-21 00:00:03.106963698  \n",
      "7         NaN        NaN  2020-10-21 00:00:03.624790981  \n",
      "8         NaN        NaN  2020-10-21 00:00:04.142618264  \n",
      "9         NaN        NaN  2020-10-21 00:00:04.660445547  \n",
      "\n",
      "[10 rows x 21 columns]\n"
     ]
    }
   ],
   "source": [
    "# Perform descriptive analysis\n",
    "print(\"\\nDescriptive Analysis:\")\n",
    "print(biden.head(10))  # Show first 10 rows"
   ]
  },
  {
   "cell_type": "code",
   "execution_count": 15,
   "metadata": {},
   "outputs": [
    {
     "name": "stdout",
     "output_type": "stream",
     "text": [
      "DataFrame Info:\n",
      "<class 'pandas.core.frame.DataFrame'>\n",
      "RangeIndex: 777073 entries, 0 to 777072\n",
      "Data columns (total 21 columns):\n",
      " #   Column                Non-Null Count   Dtype  \n",
      "---  ------                --------------   -----  \n",
      " 0   created_at            777073 non-null  object \n",
      " 1   tweet_id              776995 non-null  object \n",
      " 2   tweet                 776995 non-null  object \n",
      " 3   likes                 776914 non-null  object \n",
      " 4   retweet_count         776895 non-null  float64\n",
      " 5   source                776182 non-null  object \n",
      " 6   user_id               776889 non-null  object \n",
      " 7   user_name             776870 non-null  object \n",
      " 8   user_screen_name      776895 non-null  object \n",
      " 9   user_description      694882 non-null  object \n",
      " 10  user_join_date        776784 non-null  object \n",
      " 11  user_followers_count  776885 non-null  object \n",
      " 12  user_location         543063 non-null  object \n",
      " 13  lat                   355284 non-null  object \n",
      " 14  long                  355284 non-null  object \n",
      " 15  city                  186869 non-null  object \n",
      " 16  country               353770 non-null  object \n",
      " 17  continent             353788 non-null  object \n",
      " 18  state                 260191 non-null  object \n",
      " 19  state_code            244603 non-null  object \n",
      " 20  collected_at          776777 non-null  object \n",
      "dtypes: float64(1), object(20)\n",
      "memory usage: 124.5+ MB\n"
     ]
    }
   ],
   "source": [
    "print(\"DataFrame Info:\")\n",
    "biden.info()  # Display DataFrame info"
   ]
  },
  {
   "cell_type": "code",
   "execution_count": 16,
   "metadata": {},
   "outputs": [
    {
     "name": "stdout",
     "output_type": "stream",
     "text": [
      "Statistical Description:\n",
      "       retweet_count\n",
      "count   7.768950e+05\n",
      "mean    1.651482e+12\n",
      "std     1.455644e+15\n",
      "min     0.000000e+00\n",
      "25%     0.000000e+00\n",
      "50%     0.000000e+00\n",
      "75%     0.000000e+00\n",
      "max     1.283028e+18\n"
     ]
    }
   ],
   "source": [
    "print(\"Statistical Description:\")\n",
    "print(biden.describe())  # Get statistical description of numeric columns"
   ]
  },
  {
   "cell_type": "code",
   "execution_count": 17,
   "metadata": {},
   "outputs": [
    {
     "name": "stdout",
     "output_type": "stream",
     "text": [
      "Shape of DataFrame: (777073, 21)\n"
     ]
    }
   ],
   "source": [
    "print(\"Shape of DataFrame:\", biden.shape)  # Show shape of the DataFrame"
   ]
  },
  {
   "cell_type": "code",
   "execution_count": 18,
   "metadata": {},
   "outputs": [
    {
     "name": "stdout",
     "output_type": "stream",
     "text": [
      "Columns in DataFrame: Index(['created_at', 'tweet_id', 'tweet', 'likes', 'retweet_count', 'source',\n",
      "       'user_id', 'user_name', 'user_screen_name', 'user_description',\n",
      "       'user_join_date', 'user_followers_count', 'user_location', 'lat',\n",
      "       'long', 'city', 'country', 'continent', 'state', 'state_code',\n",
      "       'collected_at'],\n",
      "      dtype='object')\n"
     ]
    }
   ],
   "source": [
    "print(\"Columns in DataFrame:\", biden.columns)  # List column names"
   ]
  },
  {
   "cell_type": "code",
   "execution_count": 19,
   "metadata": {},
   "outputs": [
    {
     "name": "stdout",
     "output_type": "stream",
     "text": [
      "Data Types of Columns:\n",
      "created_at               object\n",
      "tweet_id                 object\n",
      "tweet                    object\n",
      "likes                    object\n",
      "retweet_count           float64\n",
      "source                   object\n",
      "user_id                  object\n",
      "user_name                object\n",
      "user_screen_name         object\n",
      "user_description         object\n",
      "user_join_date           object\n",
      "user_followers_count     object\n",
      "user_location            object\n",
      "lat                      object\n",
      "long                     object\n",
      "city                     object\n",
      "country                  object\n",
      "continent                object\n",
      "state                    object\n",
      "state_code               object\n",
      "collected_at             object\n",
      "dtype: object\n"
     ]
    }
   ],
   "source": [
    "print(\"Data Types of Columns:\")\n",
    "print(biden.dtypes)  # Print data types of each column"
   ]
  },
  {
   "cell_type": "code",
   "execution_count": 20,
   "metadata": {},
   "outputs": [
    {
     "name": "stdout",
     "output_type": "stream",
     "text": [
      "\n",
      "The data type of the 'tweet' column is: object\n"
     ]
    }
   ],
   "source": [
    "# Get the data type of the 'tweet' column\n",
    "tweet_type = biden['tweet'].dtype\n",
    "print(f\"\\nThe data type of the 'tweet' column is: {tweet_type}\")"
   ]
  },
  {
   "cell_type": "markdown",
   "metadata": {},
   "source": [
    "Drop NA values in Biden's tweets"
   ]
  },
  {
   "cell_type": "code",
   "execution_count": 48,
   "metadata": {},
   "outputs": [
    {
     "name": "stdout",
     "output_type": "stream",
     "text": [
      "Missing values in each column:\n",
      "created_at                   0\n",
      "tweet_id                    78\n",
      "tweet                       78\n",
      "likes                      159\n",
      "retweet_count              178\n",
      "source                     891\n",
      "user_id                    184\n",
      "user_name                  203\n",
      "user_screen_name           178\n",
      "user_description         82191\n",
      "user_join_date             289\n",
      "user_followers_count       188\n",
      "user_location           234010\n",
      "lat                     421789\n",
      "long                    421789\n",
      "city                    590204\n",
      "country                 423303\n",
      "continent               423285\n",
      "state                   516882\n",
      "state_code              532470\n",
      "collected_at               296\n",
      "dtype: int64\n",
      "\n",
      "Number of missing tweets: 78\n"
     ]
    }
   ],
   "source": [
    "# Check for missing values in the DataFrame\n",
    "print(\"Missing values in each column:\")\n",
    "print(biden.isnull().sum())  # Show number of missing values per column\n",
    "missing_tweets = biden['tweet'].isna().sum()\n",
    "print(f\"\\nNumber of missing tweets: {missing_tweets}\")  # Count missing tweets"
   ]
  },
  {
   "cell_type": "code",
   "execution_count": 49,
   "metadata": {},
   "outputs": [
    {
     "name": "stdout",
     "output_type": "stream",
     "text": [
      "DataFrame after dropping missing tweets:\n",
      "            created_at                tweet_id  \\\n",
      "0  2020-10-15 00:00:01   1.316529221557252e+18   \n",
      "1  2020-10-15 00:00:18    1.31652929585929e+18   \n",
      "2  2020-10-15 00:00:20  1.3165293050069524e+18   \n",
      "3  2020-10-15 00:00:21  1.3165293080815575e+18   \n",
      "4  2020-10-15 00:00:22   1.316529312741253e+18   \n",
      "\n",
      "                                               tweet likes  retweet_count  \\\n",
      "0  #Elecciones2020 | En #Florida: #JoeBiden dice ...   0.0            0.0   \n",
      "1  #HunterBiden #HunterBidenEmails #JoeBiden #Joe...   0.0            0.0   \n",
      "2  @IslandGirlPRV @BradBeauregardJ @MeidasTouch T...   0.0            0.0   \n",
      "3  @chrislongview Watching and setting dvr. Let’s...   0.0            0.0   \n",
      "4  #censorship #HunterBiden #Biden #BidenEmails #...   1.0            0.0   \n",
      "\n",
      "               source                user_id           user_name  \\\n",
      "0           TweetDeck            360666534.0  El Sol Latino News   \n",
      "1    Twitter for iPad            809904438.0         Cheri A. 🇺🇸   \n",
      "2     Twitter Web App           3494182277.0          Flag Waver   \n",
      "3  Twitter for iPhone  8.242596012018524e+17       Michelle Ferg   \n",
      "4     Twitter Web App  1.032806955356545e+18      the Gold State   \n",
      "\n",
      "  user_screen_name                                   user_description  ...  \\\n",
      "0  elsollatinonews  🌐 Noticias de interés para latinos de la costa...  ...   \n",
      "1     Biloximeemaw  Locked and loaded Meemaw. Love God, my family ...  ...   \n",
      "2      Flag_Wavers                                                NaN  ...   \n",
      "3    MichelleFerg4                                                NaN  ...   \n",
      "4    theegoldstate  A Silicon Valley #independent #News #Media #St...  ...   \n",
      "\n",
      "  user_followers_count                 user_location         lat  \\\n",
      "0               1860.0  Philadelphia, PA / Miami, FL    25.77427   \n",
      "1               6628.0                           NaN         NaN   \n",
      "2               1536.0         Golden Valley Arizona  46.3040364   \n",
      "3                 27.0                           NaN         NaN   \n",
      "4                390.0               California, USA  36.7014631   \n",
      "\n",
      "                  long city                   country      continent  \\\n",
      "0            -80.19366  NaN  United States of America  North America   \n",
      "1                  NaN  NaN                       NaN            NaN   \n",
      "2  -109.17143119999999  NaN  United States of America  North America   \n",
      "3                  NaN  NaN                       NaN            NaN   \n",
      "4  -118.75599740000001  NaN  United States of America  North America   \n",
      "\n",
      "        state state_code                   collected_at  \n",
      "0     Florida         FL            2020-10-21 00:00:00  \n",
      "1         NaN        NaN  2020-10-21 00:00:00.517827283  \n",
      "2     Montana         MT  2020-10-21 00:00:01.035654566  \n",
      "3         NaN        NaN  2020-10-21 00:00:01.553481849  \n",
      "4  California         CA  2020-10-21 00:00:02.071309132  \n",
      "\n",
      "[5 rows x 21 columns]\n"
     ]
    }
   ],
   "source": [
    "# Drop rows with missing values in the 'tweet' column\n",
    "biden = biden.dropna(subset=['tweet'])\n",
    "print(\"DataFrame after dropping missing tweets:\")\n",
    "print(biden.head())  # Display the first few rows of the cleaned DataFrame"
   ]
  },
  {
   "cell_type": "markdown",
   "metadata": {},
   "source": [
    "### Merging the Biden and Trump Dataset"
   ]
  },
  {
   "cell_type": "markdown",
   "metadata": {},
   "source": [
    "Merge the dataset with Biden and Trump hashtags into a global US tweets data and save it"
   ]
  },
  {
   "cell_type": "code",
   "execution_count": 50,
   "metadata": {},
   "outputs": [],
   "source": [
    "# creating a new column 'candidate' to differentiate between tweets of Trump and Biden upon concatination \n",
    "trump['candidate'] = 'trump'\n",
    "biden['candidate'] = 'biden'"
   ]
  },
  {
   "cell_type": "code",
   "execution_count": 51,
   "metadata": {},
   "outputs": [
    {
     "name": "stdout",
     "output_type": "stream",
     "text": [
      "Final Data Shape : (1748068, 22)\n"
     ]
    }
   ],
   "source": [
    "# combining the dataframes providing a final data shape\n",
    "data = pd.concat([trump, biden]) \n",
    "print('Final Data Shape :', data.shape) "
   ]
  },
  {
   "cell_type": "markdown",
   "metadata": {},
   "source": [
    "## Data Cleaning"
   ]
  },
  {
   "cell_type": "markdown",
   "metadata": {},
   "source": [
    "**RELEVANT ASSUMPTIONS:** \n",
    "\n",
    "The following data cleaning procedures are the result of these assumptions:\n",
    "\n",
    "- *Absolute majority rule as voting system*: whoever has the 50.001% of votes wins. This assumption implies that a candidate is assumed to win in a state if he has an absolute majority in percentage preferences according to the tweets' sentiment\n",
    "- *The neutral don't vote*: everyone with a neutral sentiment towards a candidate doesn't take part in the votation\n",
    "- People are coherent with tweets statement (i.e., a negative tweet on Trump is equivalent to a positive tweet for Biden). This assumption makes it possible to eliminate all duplicate users (i.e., if a user appears twice, leaving both a tweet on biden and a tweet on trump, only one of the two is retained)"
   ]
  },
  {
   "cell_type": "markdown",
   "metadata": {},
   "source": [
    "To prepare the dataset for our analysis, we need to focus on tweets from users eligible to vote in the U.S. elections. This involves filtering the data based on the following criteria:\n",
    "\n",
    "- **Select U.S.-based Tweets**: We will retain only tweets originating from within the United States, excluding tweets from foreign users.\n",
    "\n",
    "- **Filter for Federal States Only**: Tweets from U.S. territories (e.g., Puerto Rico, Guam) will be excluded from the analysis to focus solely on the 50 federal states.\n",
    "\n",
    "- **Keep just a tweeter for each user_ID**: assuming that everyone is coeherent with is political ideas (pro Trump or pro Biden) just keep one tweet for each user_ID"
   ]
  },
  {
   "cell_type": "markdown",
   "metadata": {},
   "source": [
    "**Select U.S.-based Tweets**"
   ]
  },
  {
   "cell_type": "code",
   "execution_count": null,
   "metadata": {},
   "outputs": [
    {
     "data": {
      "text/plain": [
       "971070    trump\n",
       "971071    trump\n",
       "971072    trump\n",
       "971073    biden\n",
       "971074    biden\n",
       "971075    biden\n",
       "Name: candidate, dtype: object"
      ]
     },
     "execution_count": 53,
     "metadata": {},
     "output_type": "execute_result"
    }
   ],
   "source": [
    "# Reset the index as numeric\n",
    "data.reset_index(inplace=True)  \n",
    "\n",
    "# equivalent methodologies:\n",
    "data.iloc[971070:971075, 22] \n",
    "data.loc[971070:971075, 'candidate']"
   ]
  },
  {
   "cell_type": "code",
   "execution_count": 54,
   "metadata": {},
   "outputs": [
    {
     "data": {
      "text/plain": [
       "country\n",
       "United States of America    332492\n",
       "United States                61903\n",
       "United Kingdom               58049\n",
       "India                        40088\n",
       "Germany                      35379\n",
       "                             ...  \n",
       "Florida                          1\n",
       "Northern Mariana Islands         1\n",
       "Saint Lucia                      1\n",
       "Lesotho                          1\n",
       "East Timor                       1\n",
       "Name: count, Length: 192, dtype: int64"
      ]
     },
     "execution_count": 54,
     "metadata": {},
     "output_type": "execute_result"
    }
   ],
   "source": [
    "# Since we are interested in USA we just keep the tweets correspondig to Country USA\n",
    "data['country'].unique()\n",
    "data['country'].value_counts()"
   ]
  },
  {
   "cell_type": "code",
   "execution_count": 55,
   "metadata": {},
   "outputs": [],
   "source": [
    "# There is not a unique name for US\n",
    "data['country'] = data['country'].replace({'United States of America': \"US\",'United States': \"US\"}) "
   ]
  },
  {
   "cell_type": "code",
   "execution_count": 56,
   "metadata": {},
   "outputs": [],
   "source": [
    "data = data[data['country'] == 'US']"
   ]
  },
  {
   "cell_type": "markdown",
   "metadata": {},
   "source": [
    "**Filter for Federal States Only**"
   ]
  },
  {
   "cell_type": "code",
   "execution_count": 58,
   "metadata": {},
   "outputs": [
    {
     "name": "stdout",
     "output_type": "stream",
     "text": [
      "['FL' 'OR' 'DC' 'CA' 'OH' 'PA' 'IL' 'MI' nan 'NJ' 'MA' 'NH' 'TX' 'SD' 'GA'\n",
      " 'MO' 'NY' 'CO' 'SC' 'VA' 'AL' 'AZ' 'NC' 'TN' 'NE' 'LA' 'NV' 'MN' 'IN'\n",
      " 'WA' 'HI' 'WV' 'VT' 'ID' 'PR' 'IA' 'KY' 'ND' 'AR' 'WI' 'UT' 'MT' 'KS'\n",
      " 'WY' 'ME' 'CT' 'MD' 'NM' 'OK' 'AK' 'DE' 'RI' 'MS' 'GU' 'MP']\n"
     ]
    }
   ],
   "source": [
    "unique_US_states_count = data['state_code'].unique()\n",
    "print( unique_US_states_count)"
   ]
  },
  {
   "cell_type": "code",
   "execution_count": 59,
   "metadata": {},
   "outputs": [],
   "source": [
    "# define the US territories\n",
    "# - **PR**: Puerto Rico\n",
    "# - **GU**: Guam\n",
    "# - **MP**: Northern Mariana Islands\n",
    "\n",
    "# Define a list of territories and DC to exclude\n",
    "excluded_states = ['PR', 'GU', 'MP']\n",
    "\n",
    "# Filter out rows where 'state_code' is in the excluded list\n",
    "federal_states = data[~data['state_code'].isin(excluded_states)]"
   ]
  },
  {
   "cell_type": "markdown",
   "metadata": {},
   "source": [
    "**Keep a tweet for every user**"
   ]
  },
  {
   "cell_type": "code",
   "execution_count": 60,
   "metadata": {},
   "outputs": [
    {
     "data": {
      "text/plain": [
       "(394395, 23)"
      ]
     },
     "execution_count": 60,
     "metadata": {},
     "output_type": "execute_result"
    }
   ],
   "source": [
    "# keep just a tweet for every user assuming that every comment to Trumo or Biden is coherent over time \n",
    "data.drop_duplicates(subset=['user_id'])\n",
    "data.shape"
   ]
  },
  {
   "cell_type": "markdown",
   "metadata": {},
   "source": [
    "### Save The Clean Data"
   ]
  },
  {
   "cell_type": "code",
   "execution_count": 61,
   "metadata": {},
   "outputs": [],
   "source": [
    "data.to_csv('data/data.csv', index=False)"
   ]
  },
  {
   "cell_type": "markdown",
   "metadata": {},
   "source": [
    "## Explanatory Analysis"
   ]
  },
  {
   "cell_type": "markdown",
   "metadata": {},
   "source": [
    "In this section some graphic representation is provided to have an idea on how tweets are distributed over federal states for each candidate "
   ]
  },
  {
   "cell_type": "markdown",
   "metadata": {},
   "source": [
    "### Overall Tweets distributions in U.S. among candidates "
   ]
  },
  {
   "cell_type": "code",
   "execution_count": 62,
   "metadata": {},
   "outputs": [
    {
     "data": {
      "application/vnd.plotly.v1+json": {
       "config": {
        "plotlyServerURL": "https://plot.ly"
       },
       "data": [
        {
         "alignmentgroup": "True",
         "hovertemplate": "Candidates=%{x}<br>Number of Tweets=%{y}<extra></extra>",
         "legendgroup": "biden",
         "marker": {
          "color": "#00cc96",
          "pattern": {
           "shape": ""
          }
         },
         "name": "biden",
         "offsetgroup": "biden",
         "orientation": "v",
         "showlegend": true,
         "textposition": "auto",
         "type": "bar",
         "x": [
          "biden"
         ],
         "xaxis": "x",
         "y": [
          181136
         ],
         "yaxis": "y"
        },
        {
         "alignmentgroup": "True",
         "hovertemplate": "Candidates=%{x}<br>Number of Tweets=%{y}<extra></extra>",
         "legendgroup": "trump",
         "marker": {
          "color": "#ab63fa",
          "pattern": {
           "shape": ""
          }
         },
         "name": "trump",
         "offsetgroup": "trump",
         "orientation": "v",
         "showlegend": true,
         "textposition": "auto",
         "type": "bar",
         "x": [
          "trump"
         ],
         "xaxis": "x",
         "y": [
          213259
         ],
         "yaxis": "y"
        }
       ],
       "layout": {
        "autosize": true,
        "barmode": "relative",
        "legend": {
         "title": {
          "text": "Candidates"
         },
         "tracegroupgap": 0
        },
        "template": {
         "data": {
          "bar": [
           {
            "error_x": {
             "color": "#2a3f5f"
            },
            "error_y": {
             "color": "#2a3f5f"
            },
            "marker": {
             "line": {
              "color": "#E5ECF6",
              "width": 0.5
             },
             "pattern": {
              "fillmode": "overlay",
              "size": 10,
              "solidity": 0.2
             }
            },
            "type": "bar"
           }
          ],
          "barpolar": [
           {
            "marker": {
             "line": {
              "color": "#E5ECF6",
              "width": 0.5
             },
             "pattern": {
              "fillmode": "overlay",
              "size": 10,
              "solidity": 0.2
             }
            },
            "type": "barpolar"
           }
          ],
          "carpet": [
           {
            "aaxis": {
             "endlinecolor": "#2a3f5f",
             "gridcolor": "white",
             "linecolor": "white",
             "minorgridcolor": "white",
             "startlinecolor": "#2a3f5f"
            },
            "baxis": {
             "endlinecolor": "#2a3f5f",
             "gridcolor": "white",
             "linecolor": "white",
             "minorgridcolor": "white",
             "startlinecolor": "#2a3f5f"
            },
            "type": "carpet"
           }
          ],
          "choropleth": [
           {
            "colorbar": {
             "outlinewidth": 0,
             "ticks": ""
            },
            "type": "choropleth"
           }
          ],
          "contour": [
           {
            "colorbar": {
             "outlinewidth": 0,
             "ticks": ""
            },
            "colorscale": [
             [
              0,
              "#0d0887"
             ],
             [
              0.1111111111111111,
              "#46039f"
             ],
             [
              0.2222222222222222,
              "#7201a8"
             ],
             [
              0.3333333333333333,
              "#9c179e"
             ],
             [
              0.4444444444444444,
              "#bd3786"
             ],
             [
              0.5555555555555556,
              "#d8576b"
             ],
             [
              0.6666666666666666,
              "#ed7953"
             ],
             [
              0.7777777777777778,
              "#fb9f3a"
             ],
             [
              0.8888888888888888,
              "#fdca26"
             ],
             [
              1,
              "#f0f921"
             ]
            ],
            "type": "contour"
           }
          ],
          "contourcarpet": [
           {
            "colorbar": {
             "outlinewidth": 0,
             "ticks": ""
            },
            "type": "contourcarpet"
           }
          ],
          "heatmap": [
           {
            "colorbar": {
             "outlinewidth": 0,
             "ticks": ""
            },
            "colorscale": [
             [
              0,
              "#0d0887"
             ],
             [
              0.1111111111111111,
              "#46039f"
             ],
             [
              0.2222222222222222,
              "#7201a8"
             ],
             [
              0.3333333333333333,
              "#9c179e"
             ],
             [
              0.4444444444444444,
              "#bd3786"
             ],
             [
              0.5555555555555556,
              "#d8576b"
             ],
             [
              0.6666666666666666,
              "#ed7953"
             ],
             [
              0.7777777777777778,
              "#fb9f3a"
             ],
             [
              0.8888888888888888,
              "#fdca26"
             ],
             [
              1,
              "#f0f921"
             ]
            ],
            "type": "heatmap"
           }
          ],
          "heatmapgl": [
           {
            "colorbar": {
             "outlinewidth": 0,
             "ticks": ""
            },
            "colorscale": [
             [
              0,
              "#0d0887"
             ],
             [
              0.1111111111111111,
              "#46039f"
             ],
             [
              0.2222222222222222,
              "#7201a8"
             ],
             [
              0.3333333333333333,
              "#9c179e"
             ],
             [
              0.4444444444444444,
              "#bd3786"
             ],
             [
              0.5555555555555556,
              "#d8576b"
             ],
             [
              0.6666666666666666,
              "#ed7953"
             ],
             [
              0.7777777777777778,
              "#fb9f3a"
             ],
             [
              0.8888888888888888,
              "#fdca26"
             ],
             [
              1,
              "#f0f921"
             ]
            ],
            "type": "heatmapgl"
           }
          ],
          "histogram": [
           {
            "marker": {
             "pattern": {
              "fillmode": "overlay",
              "size": 10,
              "solidity": 0.2
             }
            },
            "type": "histogram"
           }
          ],
          "histogram2d": [
           {
            "colorbar": {
             "outlinewidth": 0,
             "ticks": ""
            },
            "colorscale": [
             [
              0,
              "#0d0887"
             ],
             [
              0.1111111111111111,
              "#46039f"
             ],
             [
              0.2222222222222222,
              "#7201a8"
             ],
             [
              0.3333333333333333,
              "#9c179e"
             ],
             [
              0.4444444444444444,
              "#bd3786"
             ],
             [
              0.5555555555555556,
              "#d8576b"
             ],
             [
              0.6666666666666666,
              "#ed7953"
             ],
             [
              0.7777777777777778,
              "#fb9f3a"
             ],
             [
              0.8888888888888888,
              "#fdca26"
             ],
             [
              1,
              "#f0f921"
             ]
            ],
            "type": "histogram2d"
           }
          ],
          "histogram2dcontour": [
           {
            "colorbar": {
             "outlinewidth": 0,
             "ticks": ""
            },
            "colorscale": [
             [
              0,
              "#0d0887"
             ],
             [
              0.1111111111111111,
              "#46039f"
             ],
             [
              0.2222222222222222,
              "#7201a8"
             ],
             [
              0.3333333333333333,
              "#9c179e"
             ],
             [
              0.4444444444444444,
              "#bd3786"
             ],
             [
              0.5555555555555556,
              "#d8576b"
             ],
             [
              0.6666666666666666,
              "#ed7953"
             ],
             [
              0.7777777777777778,
              "#fb9f3a"
             ],
             [
              0.8888888888888888,
              "#fdca26"
             ],
             [
              1,
              "#f0f921"
             ]
            ],
            "type": "histogram2dcontour"
           }
          ],
          "mesh3d": [
           {
            "colorbar": {
             "outlinewidth": 0,
             "ticks": ""
            },
            "type": "mesh3d"
           }
          ],
          "parcoords": [
           {
            "line": {
             "colorbar": {
              "outlinewidth": 0,
              "ticks": ""
             }
            },
            "type": "parcoords"
           }
          ],
          "pie": [
           {
            "automargin": true,
            "type": "pie"
           }
          ],
          "scatter": [
           {
            "fillpattern": {
             "fillmode": "overlay",
             "size": 10,
             "solidity": 0.2
            },
            "type": "scatter"
           }
          ],
          "scatter3d": [
           {
            "line": {
             "colorbar": {
              "outlinewidth": 0,
              "ticks": ""
             }
            },
            "marker": {
             "colorbar": {
              "outlinewidth": 0,
              "ticks": ""
             }
            },
            "type": "scatter3d"
           }
          ],
          "scattercarpet": [
           {
            "marker": {
             "colorbar": {
              "outlinewidth": 0,
              "ticks": ""
             }
            },
            "type": "scattercarpet"
           }
          ],
          "scattergeo": [
           {
            "marker": {
             "colorbar": {
              "outlinewidth": 0,
              "ticks": ""
             }
            },
            "type": "scattergeo"
           }
          ],
          "scattergl": [
           {
            "marker": {
             "colorbar": {
              "outlinewidth": 0,
              "ticks": ""
             }
            },
            "type": "scattergl"
           }
          ],
          "scattermapbox": [
           {
            "marker": {
             "colorbar": {
              "outlinewidth": 0,
              "ticks": ""
             }
            },
            "type": "scattermapbox"
           }
          ],
          "scatterpolar": [
           {
            "marker": {
             "colorbar": {
              "outlinewidth": 0,
              "ticks": ""
             }
            },
            "type": "scatterpolar"
           }
          ],
          "scatterpolargl": [
           {
            "marker": {
             "colorbar": {
              "outlinewidth": 0,
              "ticks": ""
             }
            },
            "type": "scatterpolargl"
           }
          ],
          "scatterternary": [
           {
            "marker": {
             "colorbar": {
              "outlinewidth": 0,
              "ticks": ""
             }
            },
            "type": "scatterternary"
           }
          ],
          "surface": [
           {
            "colorbar": {
             "outlinewidth": 0,
             "ticks": ""
            },
            "colorscale": [
             [
              0,
              "#0d0887"
             ],
             [
              0.1111111111111111,
              "#46039f"
             ],
             [
              0.2222222222222222,
              "#7201a8"
             ],
             [
              0.3333333333333333,
              "#9c179e"
             ],
             [
              0.4444444444444444,
              "#bd3786"
             ],
             [
              0.5555555555555556,
              "#d8576b"
             ],
             [
              0.6666666666666666,
              "#ed7953"
             ],
             [
              0.7777777777777778,
              "#fb9f3a"
             ],
             [
              0.8888888888888888,
              "#fdca26"
             ],
             [
              1,
              "#f0f921"
             ]
            ],
            "type": "surface"
           }
          ],
          "table": [
           {
            "cells": {
             "fill": {
              "color": "#EBF0F8"
             },
             "line": {
              "color": "white"
             }
            },
            "header": {
             "fill": {
              "color": "#C8D4E3"
             },
             "line": {
              "color": "white"
             }
            },
            "type": "table"
           }
          ]
         },
         "layout": {
          "annotationdefaults": {
           "arrowcolor": "#2a3f5f",
           "arrowhead": 0,
           "arrowwidth": 1
          },
          "autotypenumbers": "strict",
          "coloraxis": {
           "colorbar": {
            "outlinewidth": 0,
            "ticks": ""
           }
          },
          "colorscale": {
           "diverging": [
            [
             0,
             "#8e0152"
            ],
            [
             0.1,
             "#c51b7d"
            ],
            [
             0.2,
             "#de77ae"
            ],
            [
             0.3,
             "#f1b6da"
            ],
            [
             0.4,
             "#fde0ef"
            ],
            [
             0.5,
             "#f7f7f7"
            ],
            [
             0.6,
             "#e6f5d0"
            ],
            [
             0.7,
             "#b8e186"
            ],
            [
             0.8,
             "#7fbc41"
            ],
            [
             0.9,
             "#4d9221"
            ],
            [
             1,
             "#276419"
            ]
           ],
           "sequential": [
            [
             0,
             "#0d0887"
            ],
            [
             0.1111111111111111,
             "#46039f"
            ],
            [
             0.2222222222222222,
             "#7201a8"
            ],
            [
             0.3333333333333333,
             "#9c179e"
            ],
            [
             0.4444444444444444,
             "#bd3786"
            ],
            [
             0.5555555555555556,
             "#d8576b"
            ],
            [
             0.6666666666666666,
             "#ed7953"
            ],
            [
             0.7777777777777778,
             "#fb9f3a"
            ],
            [
             0.8888888888888888,
             "#fdca26"
            ],
            [
             1,
             "#f0f921"
            ]
           ],
           "sequentialminus": [
            [
             0,
             "#0d0887"
            ],
            [
             0.1111111111111111,
             "#46039f"
            ],
            [
             0.2222222222222222,
             "#7201a8"
            ],
            [
             0.3333333333333333,
             "#9c179e"
            ],
            [
             0.4444444444444444,
             "#bd3786"
            ],
            [
             0.5555555555555556,
             "#d8576b"
            ],
            [
             0.6666666666666666,
             "#ed7953"
            ],
            [
             0.7777777777777778,
             "#fb9f3a"
            ],
            [
             0.8888888888888888,
             "#fdca26"
            ],
            [
             1,
             "#f0f921"
            ]
           ]
          },
          "colorway": [
           "#636efa",
           "#EF553B",
           "#00cc96",
           "#ab63fa",
           "#FFA15A",
           "#19d3f3",
           "#FF6692",
           "#B6E880",
           "#FF97FF",
           "#FECB52"
          ],
          "font": {
           "color": "#2a3f5f"
          },
          "geo": {
           "bgcolor": "white",
           "lakecolor": "white",
           "landcolor": "#E5ECF6",
           "showlakes": true,
           "showland": true,
           "subunitcolor": "white"
          },
          "hoverlabel": {
           "align": "left"
          },
          "hovermode": "closest",
          "mapbox": {
           "style": "light"
          },
          "paper_bgcolor": "white",
          "plot_bgcolor": "#E5ECF6",
          "polar": {
           "angularaxis": {
            "gridcolor": "white",
            "linecolor": "white",
            "ticks": ""
           },
           "bgcolor": "#E5ECF6",
           "radialaxis": {
            "gridcolor": "white",
            "linecolor": "white",
            "ticks": ""
           }
          },
          "scene": {
           "xaxis": {
            "backgroundcolor": "#E5ECF6",
            "gridcolor": "white",
            "gridwidth": 2,
            "linecolor": "white",
            "showbackground": true,
            "ticks": "",
            "zerolinecolor": "white"
           },
           "yaxis": {
            "backgroundcolor": "#E5ECF6",
            "gridcolor": "white",
            "gridwidth": 2,
            "linecolor": "white",
            "showbackground": true,
            "ticks": "",
            "zerolinecolor": "white"
           },
           "zaxis": {
            "backgroundcolor": "#E5ECF6",
            "gridcolor": "white",
            "gridwidth": 2,
            "linecolor": "white",
            "showbackground": true,
            "ticks": "",
            "zerolinecolor": "white"
           }
          },
          "shapedefaults": {
           "line": {
            "color": "#2a3f5f"
           }
          },
          "ternary": {
           "aaxis": {
            "gridcolor": "white",
            "linecolor": "white",
            "ticks": ""
           },
           "baxis": {
            "gridcolor": "white",
            "linecolor": "white",
            "ticks": ""
           },
           "bgcolor": "#E5ECF6",
           "caxis": {
            "gridcolor": "white",
            "linecolor": "white",
            "ticks": ""
           }
          },
          "title": {
           "x": 0.05
          },
          "xaxis": {
           "automargin": true,
           "gridcolor": "white",
           "linecolor": "white",
           "ticks": "",
           "title": {
            "standoff": 15
           },
           "zerolinecolor": "white",
           "zerolinewidth": 2
          },
          "yaxis": {
           "automargin": true,
           "gridcolor": "white",
           "linecolor": "white",
           "ticks": "",
           "title": {
            "standoff": 15
           },
           "zerolinecolor": "white",
           "zerolinewidth": 2
          }
         }
        },
        "title": {
         "text": "Tweets for Candidates"
        },
        "xaxis": {
         "anchor": "y",
         "autorange": true,
         "categoryarray": [
          "biden",
          "trump"
         ],
         "categoryorder": "array",
         "domain": [
          0,
          1
         ],
         "range": [
          -0.5,
          1.5
         ],
         "title": {
          "text": "Candidates"
         },
         "type": "category"
        },
        "yaxis": {
         "anchor": "x",
         "autorange": true,
         "domain": [
          0,
          1
         ],
         "range": [
          0,
          224483.15789473685
         ],
         "title": {
          "text": "Number of Tweets"
         },
         "type": "linear"
        }
       }
      },
      "image/png": "[encoded data removed]"
     },
     "metadata": {},
     "output_type": "display_data"
    }
   ],
   "source": [
    "### Group the data by 'candidate' and count the number of tweets for each candidate \n",
    "tweets_count = data.groupby('candidate')['tweet'].count().reset_index() \n",
    "\n",
    "# Interactive bar chart \n",
    "fig_tweets = px.bar(tweets_count, x='candidate', y='tweet', color='candidate', \n",
    "color_discrete_map={'Trump': 'pink', 'Biden': 'blue'}, \n",
    "labels={'candidate': 'Candidates', 'tweet': 'Number of Tweets'}, \n",
    "title='Tweets for Candidates') \n",
    "\n",
    "# Show the chart \n",
    "pio.show(fig_tweets)"
   ]
  },
  {
   "cell_type": "markdown",
   "metadata": {},
   "source": [
    "**COMMENT**:\n",
    "\n",
    "This figure shows that the number of tweets with Trump's hashtags are much more that the ones with biden's one."
   ]
  },
  {
   "cell_type": "markdown",
   "metadata": {},
   "source": [
    "### Number of Tweets in every federal states"
   ]
  },
  {
   "cell_type": "code",
   "execution_count": null,
   "metadata": {},
   "outputs": [
    {
     "data": {
      "application/vnd.plotly.v1+json": {
       "config": {
        "plotlyServerURL": "https://plot.ly"
       },
       "data": [
        {
         "alignmentgroup": "True",
         "hovertemplate": "state_code=%{x}<br>tweet=%{y}<extra></extra>",
         "legendgroup": "",
         "marker": {
          "color": "#AF0038",
          "pattern": {
           "shape": ""
          }
         },
         "name": "",
         "offsetgroup": "",
         "orientation": "v",
         "showlegend": false,
         "textposition": "auto",
         "type": "bar",
         "x": [
          "CA",
          "NY",
          "TX",
          "FL",
          "DC",
          "PA",
          "IL",
          "NJ",
          "MA",
          "OH",
          "NC",
          "CO",
          "MI",
          "AZ",
          "GA",
          "OR",
          "WA",
          "VA",
          "NV",
          "MD",
          "TN",
          "MO",
          "MN",
          "WI",
          "IN",
          "KY",
          "SC",
          "LA",
          "CT",
          "KS",
          "UT",
          "AL",
          "OK",
          "IA",
          "HI",
          "VT",
          "AR",
          "ID",
          "PR",
          "NM",
          "ND",
          "NE",
          "AK",
          "ME",
          "WV",
          "NH",
          "DE",
          "WY",
          "MS",
          "RI",
          "MT",
          "SD",
          "GU",
          "MP"
         ],
         "xaxis": "x",
         "y": [
          56964,
          43886,
          30682,
          29836,
          16739,
          12414,
          12277,
          9006,
          8457,
          8284,
          6469,
          6305,
          6127,
          6113,
          6062,
          5376,
          4871,
          4715,
          4621,
          4258,
          4246,
          4076,
          3443,
          3137,
          3108,
          2680,
          2264,
          2147,
          2019,
          1788,
          1730,
          1713,
          1653,
          1452,
          1341,
          1137,
          1082,
          1012,
          996,
          948,
          772,
          768,
          740,
          715,
          667,
          653,
          576,
          507,
          506,
          495,
          460,
          161,
          9,
          1
         ],
         "yaxis": "y"
        }
       ],
       "layout": {
        "autosize": true,
        "barmode": "relative",
        "legend": {
         "tracegroupgap": 0
        },
        "template": {
         "data": {
          "bar": [
           {
            "error_x": {
             "color": "#f2f5fa"
            },
            "error_y": {
             "color": "#f2f5fa"
            },
            "marker": {
             "line": {
              "color": "rgb(17,17,17)",
              "width": 0.5
             },
             "pattern": {
              "fillmode": "overlay",
              "size": 10,
              "solidity": 0.2
             }
            },
            "type": "bar"
           }
          ],
          "barpolar": [
           {
            "marker": {
             "line": {
              "color": "rgb(17,17,17)",
              "width": 0.5
             },
             "pattern": {
              "fillmode": "overlay",
              "size": 10,
              "solidity": 0.2
             }
            },
            "type": "barpolar"
           }
          ],
          "carpet": [
           {
            "aaxis": {
             "endlinecolor": "#A2B1C6",
             "gridcolor": "#506784",
             "linecolor": "#506784",
             "minorgridcolor": "#506784",
             "startlinecolor": "#A2B1C6"
            },
            "baxis": {
             "endlinecolor": "#A2B1C6",
             "gridcolor": "#506784",
             "linecolor": "#506784",
             "minorgridcolor": "#506784",
             "startlinecolor": "#A2B1C6"
            },
            "type": "carpet"
           }
          ],
          "choropleth": [
           {
            "colorbar": {
             "outlinewidth": 0,
             "ticks": ""
            },
            "type": "choropleth"
           }
          ],
          "contour": [
           {
            "colorbar": {
             "outlinewidth": 0,
             "ticks": ""
            },
            "colorscale": [
             [
              0,
              "#0d0887"
             ],
             [
              0.1111111111111111,
              "#46039f"
             ],
             [
              0.2222222222222222,
              "#7201a8"
             ],
             [
              0.3333333333333333,
              "#9c179e"
             ],
             [
              0.4444444444444444,
              "#bd3786"
             ],
             [
              0.5555555555555556,
              "#d8576b"
             ],
             [
              0.6666666666666666,
              "#ed7953"
             ],
             [
              0.7777777777777778,
              "#fb9f3a"
             ],
             [
              0.8888888888888888,
              "#fdca26"
             ],
             [
              1,
              "#f0f921"
             ]
            ],
            "type": "contour"
           }
          ],
          "contourcarpet": [
           {
            "colorbar": {
             "outlinewidth": 0,
             "ticks": ""
            },
            "type": "contourcarpet"
           }
          ],
          "heatmap": [
           {
            "colorbar": {
             "outlinewidth": 0,
             "ticks": ""
            },
            "colorscale": [
             [
              0,
              "#0d0887"
             ],
             [
              0.1111111111111111,
              "#46039f"
             ],
             [
              0.2222222222222222,
              "#7201a8"
             ],
             [
              0.3333333333333333,
              "#9c179e"
             ],
             [
              0.4444444444444444,
              "#bd3786"
             ],
             [
              0.5555555555555556,
              "#d8576b"
             ],
             [
              0.6666666666666666,
              "#ed7953"
             ],
             [
              0.7777777777777778,
              "#fb9f3a"
             ],
             [
              0.8888888888888888,
              "#fdca26"
             ],
             [
              1,
              "#f0f921"
             ]
            ],
            "type": "heatmap"
           }
          ],
          "heatmapgl": [
           {
            "colorbar": {
             "outlinewidth": 0,
             "ticks": ""
            },
            "colorscale": [
             [
              0,
              "#0d0887"
             ],
             [
              0.1111111111111111,
              "#46039f"
             ],
             [
              0.2222222222222222,
              "#7201a8"
             ],
             [
              0.3333333333333333,
              "#9c179e"
             ],
             [
              0.4444444444444444,
              "#bd3786"
             ],
             [
              0.5555555555555556,
              "#d8576b"
             ],
             [
              0.6666666666666666,
              "#ed7953"
             ],
             [
              0.7777777777777778,
              "#fb9f3a"
             ],
             [
              0.8888888888888888,
              "#fdca26"
             ],
             [
              1,
              "#f0f921"
             ]
            ],
            "type": "heatmapgl"
           }
          ],
          "histogram": [
           {
            "marker": {
             "pattern": {
              "fillmode": "overlay",
              "size": 10,
              "solidity": 0.2
             }
            },
            "type": "histogram"
           }
          ],
          "histogram2d": [
           {
            "colorbar": {
             "outlinewidth": 0,
             "ticks": ""
            },
            "colorscale": [
             [
              0,
              "#0d0887"
             ],
             [
              0.1111111111111111,
              "#46039f"
             ],
             [
              0.2222222222222222,
              "#7201a8"
             ],
             [
              0.3333333333333333,
              "#9c179e"
             ],
             [
              0.4444444444444444,
              "#bd3786"
             ],
             [
              0.5555555555555556,
              "#d8576b"
             ],
             [
              0.6666666666666666,
              "#ed7953"
             ],
             [
              0.7777777777777778,
              "#fb9f3a"
             ],
             [
              0.8888888888888888,
              "#fdca26"
             ],
             [
              1,
              "#f0f921"
             ]
            ],
            "type": "histogram2d"
           }
          ],
          "histogram2dcontour": [
           {
            "colorbar": {
             "outlinewidth": 0,
             "ticks": ""
            },
            "colorscale": [
             [
              0,
              "#0d0887"
             ],
             [
              0.1111111111111111,
              "#46039f"
             ],
             [
              0.2222222222222222,
              "#7201a8"
             ],
             [
              0.3333333333333333,
              "#9c179e"
             ],
             [
              0.4444444444444444,
              "#bd3786"
             ],
             [
              0.5555555555555556,
              "#d8576b"
             ],
             [
              0.6666666666666666,
              "#ed7953"
             ],
             [
              0.7777777777777778,
              "#fb9f3a"
             ],
             [
              0.8888888888888888,
              "#fdca26"
             ],
             [
              1,
              "#f0f921"
             ]
            ],
            "type": "histogram2dcontour"
           }
          ],
          "mesh3d": [
           {
            "colorbar": {
             "outlinewidth": 0,
             "ticks": ""
            },
            "type": "mesh3d"
           }
          ],
          "parcoords": [
           {
            "line": {
             "colorbar": {
              "outlinewidth": 0,
              "ticks": ""
             }
            },
            "type": "parcoords"
           }
          ],
          "pie": [
           {
            "automargin": true,
            "type": "pie"
           }
          ],
          "scatter": [
           {
            "marker": {
             "line": {
              "color": "#283442"
             }
            },
            "type": "scatter"
           }
          ],
          "scatter3d": [
           {
            "line": {
             "colorbar": {
              "outlinewidth": 0,
              "ticks": ""
             }
            },
            "marker": {
             "colorbar": {
              "outlinewidth": 0,
              "ticks": ""
             }
            },
            "type": "scatter3d"
           }
          ],
          "scattercarpet": [
           {
            "marker": {
             "colorbar": {
              "outlinewidth": 0,
              "ticks": ""
             }
            },
            "type": "scattercarpet"
           }
          ],
          "scattergeo": [
           {
            "marker": {
             "colorbar": {
              "outlinewidth": 0,
              "ticks": ""
             }
            },
            "type": "scattergeo"
           }
          ],
          "scattergl": [
           {
            "marker": {
             "line": {
              "color": "#283442"
             }
            },
            "type": "scattergl"
           }
          ],
          "scattermapbox": [
           {
            "marker": {
             "colorbar": {
              "outlinewidth": 0,
              "ticks": ""
             }
            },
            "type": "scattermapbox"
           }
          ],
          "scatterpolar": [
           {
            "marker": {
             "colorbar": {
              "outlinewidth": 0,
              "ticks": ""
             }
            },
            "type": "scatterpolar"
           }
          ],
          "scatterpolargl": [
           {
            "marker": {
             "colorbar": {
              "outlinewidth": 0,
              "ticks": ""
             }
            },
            "type": "scatterpolargl"
           }
          ],
          "scatterternary": [
           {
            "marker": {
             "colorbar": {
              "outlinewidth": 0,
              "ticks": ""
             }
            },
            "type": "scatterternary"
           }
          ],
          "surface": [
           {
            "colorbar": {
             "outlinewidth": 0,
             "ticks": ""
            },
            "colorscale": [
             [
              0,
              "#0d0887"
             ],
             [
              0.1111111111111111,
              "#46039f"
             ],
             [
              0.2222222222222222,
              "#7201a8"
             ],
             [
              0.3333333333333333,
              "#9c179e"
             ],
             [
              0.4444444444444444,
              "#bd3786"
             ],
             [
              0.5555555555555556,
              "#d8576b"
             ],
             [
              0.6666666666666666,
              "#ed7953"
             ],
             [
              0.7777777777777778,
              "#fb9f3a"
             ],
             [
              0.8888888888888888,
              "#fdca26"
             ],
             [
              1,
              "#f0f921"
             ]
            ],
            "type": "surface"
           }
          ],
          "table": [
           {
            "cells": {
             "fill": {
              "color": "#506784"
             },
             "line": {
              "color": "rgb(17,17,17)"
             }
            },
            "header": {
             "fill": {
              "color": "#2a3f5f"
             },
             "line": {
              "color": "rgb(17,17,17)"
             }
            },
            "type": "table"
           }
          ]
         },
         "layout": {
          "annotationdefaults": {
           "arrowcolor": "#f2f5fa",
           "arrowhead": 0,
           "arrowwidth": 1
          },
          "autotypenumbers": "strict",
          "coloraxis": {
           "colorbar": {
            "outlinewidth": 0,
            "ticks": ""
           }
          },
          "colorscale": {
           "diverging": [
            [
             0,
             "#8e0152"
            ],
            [
             0.1,
             "#c51b7d"
            ],
            [
             0.2,
             "#de77ae"
            ],
            [
             0.3,
             "#f1b6da"
            ],
            [
             0.4,
             "#fde0ef"
            ],
            [
             0.5,
             "#f7f7f7"
            ],
            [
             0.6,
             "#e6f5d0"
            ],
            [
             0.7,
             "#b8e186"
            ],
            [
             0.8,
             "#7fbc41"
            ],
            [
             0.9,
             "#4d9221"
            ],
            [
             1,
             "#276419"
            ]
           ],
           "sequential": [
            [
             0,
             "#0d0887"
            ],
            [
             0.1111111111111111,
             "#46039f"
            ],
            [
             0.2222222222222222,
             "#7201a8"
            ],
            [
             0.3333333333333333,
             "#9c179e"
            ],
            [
             0.4444444444444444,
             "#bd3786"
            ],
            [
             0.5555555555555556,
             "#d8576b"
            ],
            [
             0.6666666666666666,
             "#ed7953"
            ],
            [
             0.7777777777777778,
             "#fb9f3a"
            ],
            [
             0.8888888888888888,
             "#fdca26"
            ],
            [
             1,
             "#f0f921"
            ]
           ],
           "sequentialminus": [
            [
             0,
             "#0d0887"
            ],
            [
             0.1111111111111111,
             "#46039f"
            ],
            [
             0.2222222222222222,
             "#7201a8"
            ],
            [
             0.3333333333333333,
             "#9c179e"
            ],
            [
             0.4444444444444444,
             "#bd3786"
            ],
            [
             0.5555555555555556,
             "#d8576b"
            ],
            [
             0.6666666666666666,
             "#ed7953"
            ],
            [
             0.7777777777777778,
             "#fb9f3a"
            ],
            [
             0.8888888888888888,
             "#fdca26"
            ],
            [
             1,
             "#f0f921"
            ]
           ]
          },
          "colorway": [
           "#636efa",
           "#EF553B",
           "#00cc96",
           "#ab63fa",
           "#FFA15A",
           "#19d3f3",
           "#FF6692",
           "#B6E880",
           "#FF97FF",
           "#FECB52"
          ],
          "font": {
           "color": "#f2f5fa"
          },
          "geo": {
           "bgcolor": "rgb(17,17,17)",
           "lakecolor": "rgb(17,17,17)",
           "landcolor": "rgb(17,17,17)",
           "showlakes": true,
           "showland": true,
           "subunitcolor": "#506784"
          },
          "hoverlabel": {
           "align": "left"
          },
          "hovermode": "closest",
          "mapbox": {
           "style": "dark"
          },
          "paper_bgcolor": "rgb(17,17,17)",
          "plot_bgcolor": "rgb(17,17,17)",
          "polar": {
           "angularaxis": {
            "gridcolor": "#506784",
            "linecolor": "#506784",
            "ticks": ""
           },
           "bgcolor": "rgb(17,17,17)",
           "radialaxis": {
            "gridcolor": "#506784",
            "linecolor": "#506784",
            "ticks": ""
           }
          },
          "scene": {
           "xaxis": {
            "backgroundcolor": "rgb(17,17,17)",
            "gridcolor": "#506784",
            "gridwidth": 2,
            "linecolor": "#506784",
            "showbackground": true,
            "ticks": "",
            "zerolinecolor": "#C8D4E3"
           },
           "yaxis": {
            "backgroundcolor": "rgb(17,17,17)",
            "gridcolor": "#506784",
            "gridwidth": 2,
            "linecolor": "#506784",
            "showbackground": true,
            "ticks": "",
            "zerolinecolor": "#C8D4E3"
           },
           "zaxis": {
            "backgroundcolor": "rgb(17,17,17)",
            "gridcolor": "#506784",
            "gridwidth": 2,
            "linecolor": "#506784",
            "showbackground": true,
            "ticks": "",
            "zerolinecolor": "#C8D4E3"
           }
          },
          "shapedefaults": {
           "line": {
            "color": "#f2f5fa"
           }
          },
          "sliderdefaults": {
           "bgcolor": "#C8D4E3",
           "bordercolor": "rgb(17,17,17)",
           "borderwidth": 1,
           "tickwidth": 0
          },
          "ternary": {
           "aaxis": {
            "gridcolor": "#506784",
            "linecolor": "#506784",
            "ticks": ""
           },
           "baxis": {
            "gridcolor": "#506784",
            "linecolor": "#506784",
            "ticks": ""
           },
           "bgcolor": "rgb(17,17,17)",
           "caxis": {
            "gridcolor": "#506784",
            "linecolor": "#506784",
            "ticks": ""
           }
          },
          "title": {
           "x": 0.05
          },
          "updatemenudefaults": {
           "bgcolor": "#506784",
           "borderwidth": 0
          },
          "xaxis": {
           "automargin": true,
           "gridcolor": "#283442",
           "linecolor": "#506784",
           "ticks": "",
           "title": {
            "standoff": 15
           },
           "zerolinecolor": "#283442",
           "zerolinewidth": 2
          },
          "yaxis": {
           "automargin": true,
           "gridcolor": "#283442",
           "linecolor": "#506784",
           "ticks": "",
           "title": {
            "standoff": 15
           },
           "zerolinecolor": "#283442",
           "zerolinewidth": 2
          }
         }
        },
        "title": {
         "text": "Top10 states tweets"
        },
        "xaxis": {
         "anchor": "y",
         "autorange": true,
         "domain": [
          0,
          1
         ],
         "range": [
          -0.5,
          53.5
         ],
         "title": {
          "text": "state_code"
         },
         "type": "category"
        },
        "yaxis": {
         "anchor": "x",
         "autorange": true,
         "domain": [
          0,
          1
         ],
         "range": [
          0,
          59962.10526315789
         ],
         "title": {
          "text": "tweet"
         },
         "type": "linear"
        }
       }
      },
      "image/png": "[encoded data removed]"
     },
     "metadata": {},
     "output_type": "display_data"
    }
   ],
   "source": [
    "# federal states tweets Counts \n",
    "fed_states = data.groupby('state_code')['tweet'].count().sort_values(ascending=False).reset_index() \n",
    " \n",
    "# Interactive bar chart \n",
    "fig_tweet_bystates = px.bar(fed_states, x='state_code', y='tweet', \n",
    "template='plotly_dark', \n",
    "color_discrete_sequence=px.colors.qualitative.Dark24_r, \n",
    "title='Top10 states tweets') \n",
    "\n",
    "# view the graph \n",
    "pio.show(fig_tweet_bystates)"
   ]
  },
  {
   "cell_type": "markdown",
   "metadata": {},
   "source": [
    "**COMMENT**:\n",
    "\n",
    "This figure shows the distribution of the number of tweets across each federal state. Note that, although the District of Columbia is not a federal state, it ranks 5th in terms of the number of tweets shared."
   ]
  },
  {
   "cell_type": "markdown",
   "metadata": {},
   "source": [
    "### Number of Tweets in every federal states for each candidate"
   ]
  },
  {
   "cell_type": "code",
   "execution_count": 46,
   "metadata": {},
   "outputs": [
    {
     "data": {
      "application/vnd.plotly.v1+json": {
       "config": {
        "plotlyServerURL": "https://plot.ly"
       },
       "data": [
        {
         "alignmentgroup": "True",
         "hovertemplate": "Candidate=Biden<br>state_code=%{x}<br>Number of Tweets=%{y}<extra></extra>",
         "legendgroup": "Biden",
         "marker": {
          "color": "#636efa",
          "pattern": {
           "shape": ""
          }
         },
         "name": "Biden",
         "offsetgroup": "Biden",
         "orientation": "v",
         "showlegend": true,
         "textposition": "auto",
         "type": "bar",
         "x": [
          "AK",
          "AL",
          "AR",
          "AZ",
          "CA",
          "CO",
          "CT",
          "DC",
          "DE",
          "FL",
          "GA",
          "GU",
          "HI",
          "IA",
          "ID",
          "IL",
          "IN",
          "KS",
          "KY",
          "LA",
          "MA",
          "MD",
          "ME",
          "MI",
          "MN",
          "MO",
          "MP",
          "MS",
          "MT",
          "NC",
          "ND",
          "NE",
          "NH",
          "NJ",
          "NM",
          "NV",
          "NY",
          "OH",
          "OK",
          "OR",
          "PA",
          "PR",
          "RI",
          "SC",
          "SD",
          "TN",
          "TX",
          "UT",
          "VA",
          "VT",
          "WA",
          "WI",
          "WV",
          "WY"
         ],
         "xaxis": "x",
         "y": [
          429,
          864,
          469,
          3248,
          25816,
          2687,
          878,
          7055,
          331,
          13278,
          3186,
          5,
          635,
          572,
          404,
          5500,
          1552,
          888,
          1196,
          1022,
          3738,
          2069,
          317,
          3074,
          1622,
          1773,
          1,
          265,
          287,
          3054,
          289,
          374,
          381,
          3961,
          446,
          2233,
          21005,
          4413,
          806,
          2250,
          5403,
          484,
          234,
          1174,
          86,
          1993,
          14191,
          813,
          2226,
          228,
          2112,
          1657,
          367,
          238
         ],
         "yaxis": "y"
        },
        {
         "alignmentgroup": "True",
         "hovertemplate": "Candidate=Trump<br>state_code=%{x}<br>Number of Tweets=%{y}<extra></extra>",
         "legendgroup": "Trump",
         "marker": {
          "color": "#EF553B",
          "pattern": {
           "shape": ""
          }
         },
         "name": "Trump",
         "offsetgroup": "Trump",
         "orientation": "v",
         "showlegend": true,
         "textposition": "auto",
         "type": "bar",
         "x": [
          "AK",
          "AL",
          "AR",
          "AZ",
          "CA",
          "CO",
          "CT",
          "DC",
          "DE",
          "FL",
          "GA",
          "GU",
          "HI",
          "IA",
          "ID",
          "IL",
          "IN",
          "KS",
          "KY",
          "LA",
          "MA",
          "MD",
          "ME",
          "MI",
          "MN",
          "MO",
          "MS",
          "MT",
          "NC",
          "ND",
          "NE",
          "NH",
          "NJ",
          "NM",
          "NV",
          "NY",
          "OH",
          "OK",
          "OR",
          "PA",
          "PR",
          "RI",
          "SC",
          "SD",
          "TN",
          "TX",
          "UT",
          "VA",
          "VT",
          "WA",
          "WI",
          "WV",
          "WY"
         ],
         "xaxis": "x",
         "y": [
          311,
          849,
          613,
          2865,
          31148,
          3618,
          1141,
          9684,
          245,
          16558,
          2876,
          4,
          706,
          880,
          608,
          6777,
          1556,
          900,
          1484,
          1125,
          4719,
          2189,
          398,
          3053,
          1821,
          2303,
          241,
          173,
          3415,
          483,
          394,
          272,
          5045,
          502,
          2388,
          22881,
          3871,
          847,
          3126,
          7011,
          512,
          261,
          1090,
          75,
          2253,
          16491,
          917,
          2489,
          909,
          2759,
          1480,
          300,
          269
         ],
         "yaxis": "y"
        }
       ],
       "layout": {
        "autosize": true,
        "barmode": "group",
        "legend": {
         "title": {
          "text": "Candidate"
         },
         "tracegroupgap": 0
        },
        "template": {
         "data": {
          "bar": [
           {
            "error_x": {
             "color": "#f2f5fa"
            },
            "error_y": {
             "color": "#f2f5fa"
            },
            "marker": {
             "line": {
              "color": "rgb(17,17,17)",
              "width": 0.5
             },
             "pattern": {
              "fillmode": "overlay",
              "size": 10,
              "solidity": 0.2
             }
            },
            "type": "bar"
           }
          ],
          "barpolar": [
           {
            "marker": {
             "line": {
              "color": "rgb(17,17,17)",
              "width": 0.5
             },
             "pattern": {
              "fillmode": "overlay",
              "size": 10,
              "solidity": 0.2
             }
            },
            "type": "barpolar"
           }
          ],
          "carpet": [
           {
            "aaxis": {
             "endlinecolor": "#A2B1C6",
             "gridcolor": "#506784",
             "linecolor": "#506784",
             "minorgridcolor": "#506784",
             "startlinecolor": "#A2B1C6"
            },
            "baxis": {
             "endlinecolor": "#A2B1C6",
             "gridcolor": "#506784",
             "linecolor": "#506784",
             "minorgridcolor": "#506784",
             "startlinecolor": "#A2B1C6"
            },
            "type": "carpet"
           }
          ],
          "choropleth": [
           {
            "colorbar": {
             "outlinewidth": 0,
             "ticks": ""
            },
            "type": "choropleth"
           }
          ],
          "contour": [
           {
            "colorbar": {
             "outlinewidth": 0,
             "ticks": ""
            },
            "colorscale": [
             [
              0,
              "#0d0887"
             ],
             [
              0.1111111111111111,
              "#46039f"
             ],
             [
              0.2222222222222222,
              "#7201a8"
             ],
             [
              0.3333333333333333,
              "#9c179e"
             ],
             [
              0.4444444444444444,
              "#bd3786"
             ],
             [
              0.5555555555555556,
              "#d8576b"
             ],
             [
              0.6666666666666666,
              "#ed7953"
             ],
             [
              0.7777777777777778,
              "#fb9f3a"
             ],
             [
              0.8888888888888888,
              "#fdca26"
             ],
             [
              1,
              "#f0f921"
             ]
            ],
            "type": "contour"
           }
          ],
          "contourcarpet": [
           {
            "colorbar": {
             "outlinewidth": 0,
             "ticks": ""
            },
            "type": "contourcarpet"
           }
          ],
          "heatmap": [
           {
            "colorbar": {
             "outlinewidth": 0,
             "ticks": ""
            },
            "colorscale": [
             [
              0,
              "#0d0887"
             ],
             [
              0.1111111111111111,
              "#46039f"
             ],
             [
              0.2222222222222222,
              "#7201a8"
             ],
             [
              0.3333333333333333,
              "#9c179e"
             ],
             [
              0.4444444444444444,
              "#bd3786"
             ],
             [
              0.5555555555555556,
              "#d8576b"
             ],
             [
              0.6666666666666666,
              "#ed7953"
             ],
             [
              0.7777777777777778,
              "#fb9f3a"
             ],
             [
              0.8888888888888888,
              "#fdca26"
             ],
             [
              1,
              "#f0f921"
             ]
            ],
            "type": "heatmap"
           }
          ],
          "heatmapgl": [
           {
            "colorbar": {
             "outlinewidth": 0,
             "ticks": ""
            },
            "colorscale": [
             [
              0,
              "#0d0887"
             ],
             [
              0.1111111111111111,
              "#46039f"
             ],
             [
              0.2222222222222222,
              "#7201a8"
             ],
             [
              0.3333333333333333,
              "#9c179e"
             ],
             [
              0.4444444444444444,
              "#bd3786"
             ],
             [
              0.5555555555555556,
              "#d8576b"
             ],
             [
              0.6666666666666666,
              "#ed7953"
             ],
             [
              0.7777777777777778,
              "#fb9f3a"
             ],
             [
              0.8888888888888888,
              "#fdca26"
             ],
             [
              1,
              "#f0f921"
             ]
            ],
            "type": "heatmapgl"
           }
          ],
          "histogram": [
           {
            "marker": {
             "pattern": {
              "fillmode": "overlay",
              "size": 10,
              "solidity": 0.2
             }
            },
            "type": "histogram"
           }
          ],
          "histogram2d": [
           {
            "colorbar": {
             "outlinewidth": 0,
             "ticks": ""
            },
            "colorscale": [
             [
              0,
              "#0d0887"
             ],
             [
              0.1111111111111111,
              "#46039f"
             ],
             [
              0.2222222222222222,
              "#7201a8"
             ],
             [
              0.3333333333333333,
              "#9c179e"
             ],
             [
              0.4444444444444444,
              "#bd3786"
             ],
             [
              0.5555555555555556,
              "#d8576b"
             ],
             [
              0.6666666666666666,
              "#ed7953"
             ],
             [
              0.7777777777777778,
              "#fb9f3a"
             ],
             [
              0.8888888888888888,
              "#fdca26"
             ],
             [
              1,
              "#f0f921"
             ]
            ],
            "type": "histogram2d"
           }
          ],
          "histogram2dcontour": [
           {
            "colorbar": {
             "outlinewidth": 0,
             "ticks": ""
            },
            "colorscale": [
             [
              0,
              "#0d0887"
             ],
             [
              0.1111111111111111,
              "#46039f"
             ],
             [
              0.2222222222222222,
              "#7201a8"
             ],
             [
              0.3333333333333333,
              "#9c179e"
             ],
             [
              0.4444444444444444,
              "#bd3786"
             ],
             [
              0.5555555555555556,
              "#d8576b"
             ],
             [
              0.6666666666666666,
              "#ed7953"
             ],
             [
              0.7777777777777778,
              "#fb9f3a"
             ],
             [
              0.8888888888888888,
              "#fdca26"
             ],
             [
              1,
              "#f0f921"
             ]
            ],
            "type": "histogram2dcontour"
           }
          ],
          "mesh3d": [
           {
            "colorbar": {
             "outlinewidth": 0,
             "ticks": ""
            },
            "type": "mesh3d"
           }
          ],
          "parcoords": [
           {
            "line": {
             "colorbar": {
              "outlinewidth": 0,
              "ticks": ""
             }
            },
            "type": "parcoords"
           }
          ],
          "pie": [
           {
            "automargin": true,
            "type": "pie"
           }
          ],
          "scatter": [
           {
            "marker": {
             "line": {
              "color": "#283442"
             }
            },
            "type": "scatter"
           }
          ],
          "scatter3d": [
           {
            "line": {
             "colorbar": {
              "outlinewidth": 0,
              "ticks": ""
             }
            },
            "marker": {
             "colorbar": {
              "outlinewidth": 0,
              "ticks": ""
             }
            },
            "type": "scatter3d"
           }
          ],
          "scattercarpet": [
           {
            "marker": {
             "colorbar": {
              "outlinewidth": 0,
              "ticks": ""
             }
            },
            "type": "scattercarpet"
           }
          ],
          "scattergeo": [
           {
            "marker": {
             "colorbar": {
              "outlinewidth": 0,
              "ticks": ""
             }
            },
            "type": "scattergeo"
           }
          ],
          "scattergl": [
           {
            "marker": {
             "line": {
              "color": "#283442"
             }
            },
            "type": "scattergl"
           }
          ],
          "scattermapbox": [
           {
            "marker": {
             "colorbar": {
              "outlinewidth": 0,
              "ticks": ""
             }
            },
            "type": "scattermapbox"
           }
          ],
          "scatterpolar": [
           {
            "marker": {
             "colorbar": {
              "outlinewidth": 0,
              "ticks": ""
             }
            },
            "type": "scatterpolar"
           }
          ],
          "scatterpolargl": [
           {
            "marker": {
             "colorbar": {
              "outlinewidth": 0,
              "ticks": ""
             }
            },
            "type": "scatterpolargl"
           }
          ],
          "scatterternary": [
           {
            "marker": {
             "colorbar": {
              "outlinewidth": 0,
              "ticks": ""
             }
            },
            "type": "scatterternary"
           }
          ],
          "surface": [
           {
            "colorbar": {
             "outlinewidth": 0,
             "ticks": ""
            },
            "colorscale": [
             [
              0,
              "#0d0887"
             ],
             [
              0.1111111111111111,
              "#46039f"
             ],
             [
              0.2222222222222222,
              "#7201a8"
             ],
             [
              0.3333333333333333,
              "#9c179e"
             ],
             [
              0.4444444444444444,
              "#bd3786"
             ],
             [
              0.5555555555555556,
              "#d8576b"
             ],
             [
              0.6666666666666666,
              "#ed7953"
             ],
             [
              0.7777777777777778,
              "#fb9f3a"
             ],
             [
              0.8888888888888888,
              "#fdca26"
             ],
             [
              1,
              "#f0f921"
             ]
            ],
            "type": "surface"
           }
          ],
          "table": [
           {
            "cells": {
             "fill": {
              "color": "#506784"
             },
             "line": {
              "color": "rgb(17,17,17)"
             }
            },
            "header": {
             "fill": {
              "color": "#2a3f5f"
             },
             "line": {
              "color": "rgb(17,17,17)"
             }
            },
            "type": "table"
           }
          ]
         },
         "layout": {
          "annotationdefaults": {
           "arrowcolor": "#f2f5fa",
           "arrowhead": 0,
           "arrowwidth": 1
          },
          "autotypenumbers": "strict",
          "coloraxis": {
           "colorbar": {
            "outlinewidth": 0,
            "ticks": ""
           }
          },
          "colorscale": {
           "diverging": [
            [
             0,
             "#8e0152"
            ],
            [
             0.1,
             "#c51b7d"
            ],
            [
             0.2,
             "#de77ae"
            ],
            [
             0.3,
             "#f1b6da"
            ],
            [
             0.4,
             "#fde0ef"
            ],
            [
             0.5,
             "#f7f7f7"
            ],
            [
             0.6,
             "#e6f5d0"
            ],
            [
             0.7,
             "#b8e186"
            ],
            [
             0.8,
             "#7fbc41"
            ],
            [
             0.9,
             "#4d9221"
            ],
            [
             1,
             "#276419"
            ]
           ],
           "sequential": [
            [
             0,
             "#0d0887"
            ],
            [
             0.1111111111111111,
             "#46039f"
            ],
            [
             0.2222222222222222,
             "#7201a8"
            ],
            [
             0.3333333333333333,
             "#9c179e"
            ],
            [
             0.4444444444444444,
             "#bd3786"
            ],
            [
             0.5555555555555556,
             "#d8576b"
            ],
            [
             0.6666666666666666,
             "#ed7953"
            ],
            [
             0.7777777777777778,
             "#fb9f3a"
            ],
            [
             0.8888888888888888,
             "#fdca26"
            ],
            [
             1,
             "#f0f921"
            ]
           ],
           "sequentialminus": [
            [
             0,
             "#0d0887"
            ],
            [
             0.1111111111111111,
             "#46039f"
            ],
            [
             0.2222222222222222,
             "#7201a8"
            ],
            [
             0.3333333333333333,
             "#9c179e"
            ],
            [
             0.4444444444444444,
             "#bd3786"
            ],
            [
             0.5555555555555556,
             "#d8576b"
            ],
            [
             0.6666666666666666,
             "#ed7953"
            ],
            [
             0.7777777777777778,
             "#fb9f3a"
            ],
            [
             0.8888888888888888,
             "#fdca26"
            ],
            [
             1,
             "#f0f921"
            ]
           ]
          },
          "colorway": [
           "#636efa",
           "#EF553B",
           "#00cc96",
           "#ab63fa",
           "#FFA15A",
           "#19d3f3",
           "#FF6692",
           "#B6E880",
           "#FF97FF",
           "#FECB52"
          ],
          "font": {
           "color": "#f2f5fa"
          },
          "geo": {
           "bgcolor": "rgb(17,17,17)",
           "lakecolor": "rgb(17,17,17)",
           "landcolor": "rgb(17,17,17)",
           "showlakes": true,
           "showland": true,
           "subunitcolor": "#506784"
          },
          "hoverlabel": {
           "align": "left"
          },
          "hovermode": "closest",
          "mapbox": {
           "style": "dark"
          },
          "paper_bgcolor": "rgb(17,17,17)",
          "plot_bgcolor": "rgb(17,17,17)",
          "polar": {
           "angularaxis": {
            "gridcolor": "#506784",
            "linecolor": "#506784",
            "ticks": ""
           },
           "bgcolor": "rgb(17,17,17)",
           "radialaxis": {
            "gridcolor": "#506784",
            "linecolor": "#506784",
            "ticks": ""
           }
          },
          "scene": {
           "xaxis": {
            "backgroundcolor": "rgb(17,17,17)",
            "gridcolor": "#506784",
            "gridwidth": 2,
            "linecolor": "#506784",
            "showbackground": true,
            "ticks": "",
            "zerolinecolor": "#C8D4E3"
           },
           "yaxis": {
            "backgroundcolor": "rgb(17,17,17)",
            "gridcolor": "#506784",
            "gridwidth": 2,
            "linecolor": "#506784",
            "showbackground": true,
            "ticks": "",
            "zerolinecolor": "#C8D4E3"
           },
           "zaxis": {
            "backgroundcolor": "rgb(17,17,17)",
            "gridcolor": "#506784",
            "gridwidth": 2,
            "linecolor": "#506784",
            "showbackground": true,
            "ticks": "",
            "zerolinecolor": "#C8D4E3"
           }
          },
          "shapedefaults": {
           "line": {
            "color": "#f2f5fa"
           }
          },
          "sliderdefaults": {
           "bgcolor": "#C8D4E3",
           "bordercolor": "rgb(17,17,17)",
           "borderwidth": 1,
           "tickwidth": 0
          },
          "ternary": {
           "aaxis": {
            "gridcolor": "#506784",
            "linecolor": "#506784",
            "ticks": ""
           },
           "baxis": {
            "gridcolor": "#506784",
            "linecolor": "#506784",
            "ticks": ""
           },
           "bgcolor": "rgb(17,17,17)",
           "caxis": {
            "gridcolor": "#506784",
            "linecolor": "#506784",
            "ticks": ""
           }
          },
          "title": {
           "x": 0.05
          },
          "updatemenudefaults": {
           "bgcolor": "#506784",
           "borderwidth": 0
          },
          "xaxis": {
           "automargin": true,
           "gridcolor": "#283442",
           "linecolor": "#506784",
           "ticks": "",
           "title": {
            "standoff": 15
           },
           "zerolinecolor": "#283442",
           "zerolinewidth": 2
          },
          "yaxis": {
           "automargin": true,
           "gridcolor": "#283442",
           "linecolor": "#506784",
           "ticks": "",
           "title": {
            "standoff": 15
           },
           "zerolinecolor": "#283442",
           "zerolinewidth": 2
          }
         }
        },
        "title": {
         "text": "Tweet Counts for Each Candidate in the federal states"
        },
        "xaxis": {
         "anchor": "y",
         "autorange": true,
         "domain": [
          0,
          1
         ],
         "range": [
          -0.5,
          53.5
         ],
         "title": {
          "text": "state_code"
         },
         "type": "category"
        },
        "yaxis": {
         "anchor": "x",
         "autorange": true,
         "domain": [
          0,
          1
         ],
         "range": [
          0,
          32787.36842105263
         ],
         "title": {
          "text": "Number of Tweets"
         },
         "type": "linear"
        }
       }
      },
      "image/png": "[encoded data removed]"
     },
     "metadata": {},
     "output_type": "display_data"
    }
   ],
   "source": [
    "# the number of tweets done for each candidate by all the states. \n",
    "tweet_df = data.groupby(['state_code', 'candidate'])['tweet'].count().reset_index() \n",
    "\n",
    "# Candidate for top 20 state_code tweet \n",
    "tweeters = tweet_df[tweet_df['state_code'].isin(fed_states.state_code)] \n",
    "\n",
    "# Plot for tweet counts for each candidate in the top 20 state_code \n",
    "fig_state_tweet = px.bar(tweeters, x='state_code', y='tweet', color='candidate', \n",
    "                         labels={'state_code': 'state_code', 'tweet': 'Number of Tweets', \n",
    "                                 'candidate': 'Candidate'}, \n",
    "                                 title='Tweet Counts for Each Candidate in the federal states',\n",
    "                                 template='plotly_dark', \n",
    "                                 barmode='group') \n",
    "\n",
    "# Show the chart \n",
    "pio.show(fig_state_tweet) "
   ]
  },
  {
   "cell_type": "markdown",
   "metadata": {},
   "source": [
    "**COMMENT**:\n",
    "\n",
    "This figure shows the distribution of tweets across each federal state using either Biden or Trump's hashtags. In nearly every federal state, Trump appears to receive at least as many tweets as Biden."
   ]
  }
 ],
 "metadata": {
  "kernelspec": {
   "display_name": "Python 3 (ipykernel)",
   "language": "python",
   "name": "python3"
  },
  "language_info": {
   "codemirror_mode": {
    "name": "ipython",
    "version": 3
   },
   "file_extension": ".py",
   "mimetype": "text/x-python",
   "name": "python",
   "nbconvert_exporter": "python",
   "pygments_lexer": "ipython3",
   "version": "3.12.4"
  }
 },
 "nbformat": 4,
 "nbformat_minor": 4
}
